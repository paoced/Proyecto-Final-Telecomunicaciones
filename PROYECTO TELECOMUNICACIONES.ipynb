{
 "cells": [
  {
   "cell_type": "markdown",
   "id": "f7f1533d",
   "metadata": {},
   "source": [
    "# Proyecto Telecomunicaciones"
   ]
  },
  {
   "cell_type": "markdown",
   "id": "2f30ac77",
   "metadata": {},
   "source": [
    "El servicio de telefonía virtual CallMeMaybe está desarrollando una nueva función que brindará a los supervisores y las supervisores información sobre los operadores menos eficaces. Se considera que un operador es ineficaz si tiene una gran cantidad de llamadas entrantes perdidas (internas y externas) y un tiempo de espera prolongado para las llamadas entrantes. Además, si se supone que un operador debe realizar llamadas salientes, un número reducido de ellas también será un signo de ineficacia.\n",
    "\n",
    "En este análisis se solicita:\n",
    "\n",
    "1. Llevar a cabo el análisis exploratorio de datos\n",
    "\n",
    "2. Identificar operadores ineficaces y\n",
    "\n",
    "3. Probar las hipótesis estadísticas"
   ]
  },
  {
   "cell_type": "markdown",
   "id": "8d43b072",
   "metadata": {},
   "source": [
    "## 1. Llevar a cabo el análisis exploratorio de datos"
   ]
  },
  {
   "cell_type": "markdown",
   "id": "06bb82c7",
   "metadata": {},
   "source": [
    "### Paso 1. Abrir el archivo de datos y leer la información general"
   ]
  },
  {
   "cell_type": "code",
   "execution_count": 1,
   "id": "3b4489d6",
   "metadata": {},
   "outputs": [],
   "source": [
    "# Primero vamos a cargar las paqueterías necesarias.\n",
    "\n",
    "#Para trabajar los DF, importaremos \"Pandas\"\n",
    "\n",
    "import pandas as pd \n",
    "from IPython.display import display\n",
    "\n",
    "#Para las graficas:\n",
    "\n",
    "from matplotlib import pyplot as plt\n",
    "from plotly import graph_objects as go\n",
    "import seaborn as sns \n",
    "\n",
    "#Para las pruebas de hipótesis:\n",
    "from statsmodels.stats.proportion import proportions_ztest\n",
    "from scipy.stats import ttest_ind\n",
    "from scipy import stats as st\n",
    "import pandas as pd\n",
    "\n",
    "\n",
    "#Para otros cálculos\n",
    "import numpy as np"
   ]
  },
  {
   "cell_type": "code",
   "execution_count": 2,
   "id": "10c265bf",
   "metadata": {},
   "outputs": [],
   "source": [
    "# Ahora vamos a cargar los dataset:\n",
    "\n",
    "df_info = pd.read_csv('/datasets/telecom_dataset_us.csv')\n",
    "\n",
    "df_clients = pd.read_csv('/datasets/telecom_clients_us.csv')"
   ]
  },
  {
   "cell_type": "markdown",
   "id": "d2675f1b",
   "metadata": {},
   "source": [
    "### Paso 2. Preparar los datos para el análisis"
   ]
  },
  {
   "cell_type": "code",
   "execution_count": 3,
   "id": "5ea3e73b",
   "metadata": {
    "scrolled": true
   },
   "outputs": [
    {
     "name": "stdout",
     "output_type": "stream",
     "text": [
      "<class 'pandas.core.frame.DataFrame'>\n",
      "RangeIndex: 53902 entries, 0 to 53901\n",
      "Data columns (total 9 columns):\n",
      " #   Column               Non-Null Count  Dtype  \n",
      "---  ------               --------------  -----  \n",
      " 0   user_id              53902 non-null  int64  \n",
      " 1   date                 53902 non-null  object \n",
      " 2   direction            53902 non-null  object \n",
      " 3   internal             53785 non-null  object \n",
      " 4   operator_id          45730 non-null  float64\n",
      " 5   is_missed_call       53902 non-null  bool   \n",
      " 6   calls_count          53902 non-null  int64  \n",
      " 7   call_duration        53902 non-null  int64  \n",
      " 8   total_call_duration  53902 non-null  int64  \n",
      "dtypes: bool(1), float64(1), int64(4), object(3)\n",
      "memory usage: 11.1 MB\n"
     ]
    }
   ],
   "source": [
    "# Ahora vamos a analizar el df_info:\n",
    "df_info.info(memory_usage='deep')"
   ]
  },
  {
   "cell_type": "markdown",
   "id": "7b61c58b",
   "metadata": {},
   "source": [
    "Este DF tiene 9 columnas, 53,902 registros. la columna date, tiene el tipo de dato como \"object\" vamos a cambiarlo al tipo de dato de pandas, el resto de las columnas tienen el tipo de dato correcto"
   ]
  },
  {
   "cell_type": "code",
   "execution_count": 4,
   "id": "632e2a60",
   "metadata": {
    "scrolled": true
   },
   "outputs": [
    {
     "data": {
      "text/html": [
       "<div>\n",
       "<style scoped>\n",
       "    .dataframe tbody tr th:only-of-type {\n",
       "        vertical-align: middle;\n",
       "    }\n",
       "\n",
       "    .dataframe tbody tr th {\n",
       "        vertical-align: top;\n",
       "    }\n",
       "\n",
       "    .dataframe thead th {\n",
       "        text-align: right;\n",
       "    }\n",
       "</style>\n",
       "<table border=\"1\" class=\"dataframe\">\n",
       "  <thead>\n",
       "    <tr style=\"text-align: right;\">\n",
       "      <th></th>\n",
       "      <th>user_id</th>\n",
       "      <th>date</th>\n",
       "      <th>direction</th>\n",
       "      <th>internal</th>\n",
       "      <th>operator_id</th>\n",
       "      <th>is_missed_call</th>\n",
       "      <th>calls_count</th>\n",
       "      <th>call_duration</th>\n",
       "      <th>total_call_duration</th>\n",
       "    </tr>\n",
       "  </thead>\n",
       "  <tbody>\n",
       "    <tr>\n",
       "      <th>0</th>\n",
       "      <td>166377</td>\n",
       "      <td>2019-08-04</td>\n",
       "      <td>in</td>\n",
       "      <td>False</td>\n",
       "      <td>NaN</td>\n",
       "      <td>True</td>\n",
       "      <td>2</td>\n",
       "      <td>0</td>\n",
       "      <td>4</td>\n",
       "    </tr>\n",
       "    <tr>\n",
       "      <th>1</th>\n",
       "      <td>166377</td>\n",
       "      <td>2019-08-05</td>\n",
       "      <td>out</td>\n",
       "      <td>True</td>\n",
       "      <td>880022.0</td>\n",
       "      <td>True</td>\n",
       "      <td>3</td>\n",
       "      <td>0</td>\n",
       "      <td>5</td>\n",
       "    </tr>\n",
       "    <tr>\n",
       "      <th>2</th>\n",
       "      <td>166377</td>\n",
       "      <td>2019-08-05</td>\n",
       "      <td>out</td>\n",
       "      <td>True</td>\n",
       "      <td>880020.0</td>\n",
       "      <td>True</td>\n",
       "      <td>1</td>\n",
       "      <td>0</td>\n",
       "      <td>1</td>\n",
       "    </tr>\n",
       "    <tr>\n",
       "      <th>3</th>\n",
       "      <td>166377</td>\n",
       "      <td>2019-08-05</td>\n",
       "      <td>out</td>\n",
       "      <td>True</td>\n",
       "      <td>880020.0</td>\n",
       "      <td>False</td>\n",
       "      <td>1</td>\n",
       "      <td>10</td>\n",
       "      <td>18</td>\n",
       "    </tr>\n",
       "    <tr>\n",
       "      <th>4</th>\n",
       "      <td>166377</td>\n",
       "      <td>2019-08-05</td>\n",
       "      <td>out</td>\n",
       "      <td>False</td>\n",
       "      <td>880022.0</td>\n",
       "      <td>True</td>\n",
       "      <td>3</td>\n",
       "      <td>0</td>\n",
       "      <td>25</td>\n",
       "    </tr>\n",
       "  </tbody>\n",
       "</table>\n",
       "</div>"
      ],
      "text/plain": [
       "   user_id        date direction internal  operator_id  is_missed_call  \\\n",
       "0   166377  2019-08-04        in    False          NaN            True   \n",
       "1   166377  2019-08-05       out     True     880022.0            True   \n",
       "2   166377  2019-08-05       out     True     880020.0            True   \n",
       "3   166377  2019-08-05       out     True     880020.0           False   \n",
       "4   166377  2019-08-05       out    False     880022.0            True   \n",
       "\n",
       "   calls_count  call_duration  total_call_duration  \n",
       "0            2              0                    4  \n",
       "1            3              0                    5  \n",
       "2            1              0                    1  \n",
       "3            1             10                   18  \n",
       "4            3              0                   25  "
      ]
     },
     "execution_count": 4,
     "metadata": {},
     "output_type": "execute_result"
    }
   ],
   "source": [
    "#Vamos a cambiar el tipo de dato de la columna date:\n",
    "\n",
    "df_info['date'] = pd.to_datetime(df_info['date'])\n",
    "\n",
    "df_info['date'] =  df_info['date'].dt.strftime('%Y-%m-%d')\n",
    "\n",
    "df_info.head(5)\n"
   ]
  },
  {
   "cell_type": "code",
   "execution_count": 5,
   "id": "11e7f25e",
   "metadata": {},
   "outputs": [
    {
     "data": {
      "text/plain": [
       "4900"
      ]
     },
     "execution_count": 5,
     "metadata": {},
     "output_type": "execute_result"
    }
   ],
   "source": [
    "#Ahora vamos a ver que no existan filas duplicadas:\n",
    "\n",
    "(df_info.duplicated().sum())"
   ]
  },
  {
   "cell_type": "code",
   "execution_count": 6,
   "id": "16215c13",
   "metadata": {},
   "outputs": [
    {
     "data": {
      "text/plain": [
       "0"
      ]
     },
     "execution_count": 6,
     "metadata": {},
     "output_type": "execute_result"
    }
   ],
   "source": [
    "#Hay 4,900 filas duplicadas, vamos a eliminarlas usando el método drop_duplicates:\n",
    "\n",
    "df_info.drop_duplicates(inplace = True)\n",
    "\n",
    "#Vamos a revisar nuevamente los duplicados:\n",
    "\n",
    "(df_info.duplicated().sum())"
   ]
  },
  {
   "cell_type": "code",
   "execution_count": 7,
   "id": "83884fd7",
   "metadata": {},
   "outputs": [],
   "source": [
    "# Ahora vamos a trabajar los valores nulos de las columnas \"internal y operator_id:\n",
    "\n",
    "df_info['internal'].fillna('Otro', inplace=True)\n",
    "df_info['operator_id'].fillna('-', inplace=True)\n",
    "\n",
    "#Este df, ya no tiene datos duplicados, ni nulos, está listo para ser analizado."
   ]
  },
  {
   "cell_type": "code",
   "execution_count": 8,
   "id": "0d0dec22",
   "metadata": {
    "scrolled": false
   },
   "outputs": [
    {
     "name": "stdout",
     "output_type": "stream",
     "text": [
      "<class 'pandas.core.frame.DataFrame'>\n",
      "RangeIndex: 732 entries, 0 to 731\n",
      "Data columns (total 3 columns):\n",
      " #   Column       Non-Null Count  Dtype \n",
      "---  ------       --------------  ----- \n",
      " 0   user_id      732 non-null    int64 \n",
      " 1   tariff_plan  732 non-null    object\n",
      " 2   date_start   732 non-null    object\n",
      "dtypes: int64(1), object(2)\n",
      "memory usage: 95.2 KB\n"
     ]
    }
   ],
   "source": [
    "# Ahora vamos a analizar el df_clients:\n",
    "\n",
    "df_clients.info(memory_usage='deep')"
   ]
  },
  {
   "cell_type": "markdown",
   "id": "c451a4ca",
   "metadata": {},
   "source": [
    "Este df, tiene 3 columnas, con 732 filas, no tiene valores nulos, el tipo de dato de las columnas user_id y tariff_plan es correcto, pero vamos a cambiar el tipo de dato de la columna \"date_start\""
   ]
  },
  {
   "cell_type": "code",
   "execution_count": 9,
   "id": "54b4fb61",
   "metadata": {
    "scrolled": true
   },
   "outputs": [
    {
     "data": {
      "text/html": [
       "<div>\n",
       "<style scoped>\n",
       "    .dataframe tbody tr th:only-of-type {\n",
       "        vertical-align: middle;\n",
       "    }\n",
       "\n",
       "    .dataframe tbody tr th {\n",
       "        vertical-align: top;\n",
       "    }\n",
       "\n",
       "    .dataframe thead th {\n",
       "        text-align: right;\n",
       "    }\n",
       "</style>\n",
       "<table border=\"1\" class=\"dataframe\">\n",
       "  <thead>\n",
       "    <tr style=\"text-align: right;\">\n",
       "      <th></th>\n",
       "      <th>user_id</th>\n",
       "      <th>tariff_plan</th>\n",
       "      <th>date_start</th>\n",
       "    </tr>\n",
       "  </thead>\n",
       "  <tbody>\n",
       "    <tr>\n",
       "      <th>0</th>\n",
       "      <td>166713</td>\n",
       "      <td>A</td>\n",
       "      <td>2019-08-15</td>\n",
       "    </tr>\n",
       "    <tr>\n",
       "      <th>1</th>\n",
       "      <td>166901</td>\n",
       "      <td>A</td>\n",
       "      <td>2019-08-23</td>\n",
       "    </tr>\n",
       "    <tr>\n",
       "      <th>2</th>\n",
       "      <td>168527</td>\n",
       "      <td>A</td>\n",
       "      <td>2019-10-29</td>\n",
       "    </tr>\n",
       "    <tr>\n",
       "      <th>3</th>\n",
       "      <td>167097</td>\n",
       "      <td>A</td>\n",
       "      <td>2019-09-01</td>\n",
       "    </tr>\n",
       "    <tr>\n",
       "      <th>4</th>\n",
       "      <td>168193</td>\n",
       "      <td>A</td>\n",
       "      <td>2019-10-16</td>\n",
       "    </tr>\n",
       "  </tbody>\n",
       "</table>\n",
       "</div>"
      ],
      "text/plain": [
       "   user_id tariff_plan  date_start\n",
       "0   166713           A  2019-08-15\n",
       "1   166901           A  2019-08-23\n",
       "2   168527           A  2019-10-29\n",
       "3   167097           A  2019-09-01\n",
       "4   168193           A  2019-10-16"
      ]
     },
     "execution_count": 9,
     "metadata": {},
     "output_type": "execute_result"
    }
   ],
   "source": [
    "#Vamos a cambiar el tipo de dato de la columna date_start:\n",
    "\n",
    "df_clients['date_start'] = pd.to_datetime(df_clients['date_start'])\n",
    "\n",
    "df_clients['date_start'] =  df_clients['date_start'].dt.strftime('%Y-%m-%d')\n",
    "\n",
    "df_clients.head()"
   ]
  },
  {
   "cell_type": "code",
   "execution_count": 10,
   "id": "e0506de1",
   "metadata": {},
   "outputs": [
    {
     "data": {
      "text/plain": [
       "0"
      ]
     },
     "execution_count": 10,
     "metadata": {},
     "output_type": "execute_result"
    }
   ],
   "source": [
    "#Ahora vamos a ver que no existan filas duplicadas:\n",
    "\n",
    "(df_clients.duplicated().sum())"
   ]
  },
  {
   "cell_type": "markdown",
   "id": "82d1e9e2",
   "metadata": {},
   "source": [
    "Este df, no tiene datos duplicados, está listo para ser analizado."
   ]
  },
  {
   "cell_type": "markdown",
   "id": "446b76b4",
   "metadata": {},
   "source": [
    "## Identificar operadores ineficaces "
   ]
  },
  {
   "cell_type": "markdown",
   "id": "e32869b9",
   "metadata": {},
   "source": [
    "Se considera que un operador es ineficaz si: \n",
    "\n",
    "1. Tiene una gran cantidad de llamadas entrantes perdidas (internas y externas),\n",
    "\n",
    "2. Tiene un tiempo de espera prolongado para las llamadas entrantes,\n",
    "\n",
    "3. Tiene un número reducido de llamadas salientes."
   ]
  },
  {
   "cell_type": "code",
   "execution_count": 11,
   "id": "ebb737f9",
   "metadata": {
    "scrolled": true
   },
   "outputs": [
    {
     "data": {
      "text/html": [
       "<div>\n",
       "<style scoped>\n",
       "    .dataframe tbody tr th:only-of-type {\n",
       "        vertical-align: middle;\n",
       "    }\n",
       "\n",
       "    .dataframe tbody tr th {\n",
       "        vertical-align: top;\n",
       "    }\n",
       "\n",
       "    .dataframe thead th {\n",
       "        text-align: right;\n",
       "    }\n",
       "</style>\n",
       "<table border=\"1\" class=\"dataframe\">\n",
       "  <thead>\n",
       "    <tr style=\"text-align: right;\">\n",
       "      <th>is_missed_call</th>\n",
       "      <th>False</th>\n",
       "      <th>True</th>\n",
       "      <th>Total</th>\n",
       "    </tr>\n",
       "    <tr>\n",
       "      <th>operator_id</th>\n",
       "      <th></th>\n",
       "      <th></th>\n",
       "      <th></th>\n",
       "    </tr>\n",
       "  </thead>\n",
       "  <tbody>\n",
       "    <tr>\n",
       "      <th>879896.0</th>\n",
       "      <td>70.0</td>\n",
       "      <td>47.0</td>\n",
       "      <td>117</td>\n",
       "    </tr>\n",
       "    <tr>\n",
       "      <th>879898.0</th>\n",
       "      <td>138.0</td>\n",
       "      <td>89.0</td>\n",
       "      <td>227</td>\n",
       "    </tr>\n",
       "    <tr>\n",
       "      <th>880020.0</th>\n",
       "      <td>14.0</td>\n",
       "      <td>6.0</td>\n",
       "      <td>20</td>\n",
       "    </tr>\n",
       "    <tr>\n",
       "      <th>880022.0</th>\n",
       "      <td>41.0</td>\n",
       "      <td>29.0</td>\n",
       "      <td>70</td>\n",
       "    </tr>\n",
       "    <tr>\n",
       "      <th>880026.0</th>\n",
       "      <td>95.0</td>\n",
       "      <td>87.0</td>\n",
       "      <td>182</td>\n",
       "    </tr>\n",
       "    <tr>\n",
       "      <th>...</th>\n",
       "      <td>...</td>\n",
       "      <td>...</td>\n",
       "      <td>...</td>\n",
       "    </tr>\n",
       "    <tr>\n",
       "      <th>972460.0</th>\n",
       "      <td>4.0</td>\n",
       "      <td>3.0</td>\n",
       "      <td>7</td>\n",
       "    </tr>\n",
       "    <tr>\n",
       "      <th>973120.0</th>\n",
       "      <td>1.0</td>\n",
       "      <td>1.0</td>\n",
       "      <td>2</td>\n",
       "    </tr>\n",
       "    <tr>\n",
       "      <th>973286.0</th>\n",
       "      <td>1.0</td>\n",
       "      <td>NaN</td>\n",
       "      <td>1</td>\n",
       "    </tr>\n",
       "    <tr>\n",
       "      <th>-</th>\n",
       "      <td>113.0</td>\n",
       "      <td>7343.0</td>\n",
       "      <td>7456</td>\n",
       "    </tr>\n",
       "    <tr>\n",
       "      <th>Total</th>\n",
       "      <td>27549.0</td>\n",
       "      <td>21453.0</td>\n",
       "      <td>49002</td>\n",
       "    </tr>\n",
       "  </tbody>\n",
       "</table>\n",
       "<p>1094 rows × 3 columns</p>\n",
       "</div>"
      ],
      "text/plain": [
       "is_missed_call    False     True  Total\n",
       "operator_id                            \n",
       "879896.0           70.0     47.0    117\n",
       "879898.0          138.0     89.0    227\n",
       "880020.0           14.0      6.0     20\n",
       "880022.0           41.0     29.0     70\n",
       "880026.0           95.0     87.0    182\n",
       "...                 ...      ...    ...\n",
       "972460.0            4.0      3.0      7\n",
       "973120.0            1.0      1.0      2\n",
       "973286.0            1.0      NaN      1\n",
       "-                 113.0   7343.0   7456\n",
       "Total           27549.0  21453.0  49002\n",
       "\n",
       "[1094 rows x 3 columns]"
      ]
     },
     "execution_count": 11,
     "metadata": {},
     "output_type": "execute_result"
    }
   ],
   "source": [
    "#Vamos a revisar cada una de las consideraciones:\n",
    "\n",
    "# 1.Tiene una gran cantidad de llamadas entrantes perdidas (internas y externas),\n",
    "\n",
    "#Para esta consideración, vamos a contar el número de llamadas perdidas, vamos a agrupar el df por \"is_missed_call\":\n",
    "\n",
    "df_mis_cal = df_info.pivot_table(\n",
    "                                index='operator_id',\n",
    "                                columns='is_missed_call',\n",
    "                                values='calls_count',\n",
    "                                aggfunc='count',\n",
    "                                margins=True, \n",
    "                                margins_name='Total'\n",
    "                                )\n",
    "\n",
    "\n",
    "df_mis_cal"
   ]
  },
  {
   "cell_type": "code",
   "execution_count": 12,
   "id": "f11fa549",
   "metadata": {},
   "outputs": [
    {
     "data": {
      "image/png": "[encoded data removed]",
      "text/plain": [
       "<Figure size 640x480 with 1 Axes>"
      ]
     },
     "metadata": {},
     "output_type": "display_data"
    }
   ],
   "source": [
    "#Vemos que se contestan la mayoría de las llamadas, sin embargo la cantidad de llamadas perdidas es del orden del 40%...\n",
    "#Vamos a graficar esta proporción:\n",
    "\n",
    "#primero haremos el df que sólo nos muestre el numero de llamadas (perdidas y tomadas)\n",
    "df_pie = df_info.groupby('is_missed_call')['calls_count'].count().reset_index()\n",
    "\n",
    "#Ahora hacemos la gráfica:\n",
    "colors = sns.color_palette('pastel')[0:4]\n",
    "plt.pie(df_pie['calls_count'], labels=df_pie['is_missed_call'], colors=colors, autopct='%.0f%%')\n",
    "plt.show()"
   ]
  },
  {
   "cell_type": "markdown",
   "id": "01de1a48",
   "metadata": {},
   "source": [
    "Con la visualización anterior podemos ver que el 44% de las llamadas se pierden, por lo que podemos decir que este es un punto negativo para los operadores. Ya que la premisa es que es ineficaz si \"tiene una gran cantidad de llamadas perdidas\" y en este caso tendrían una efectividad del 56%, lo que es bajo."
   ]
  },
  {
   "cell_type": "code",
   "execution_count": 13,
   "id": "cff42052",
   "metadata": {
    "scrolled": true
   },
   "outputs": [],
   "source": [
    "#Ahora vamos a identificar a los operadores que cumplen con este primer punto:\n",
    "\n",
    "#En el df_mis_cal vamos a agregar una columna para tener el \"%\" de llamadas perdidas:\n",
    "\n",
    "#Pero primero vamos a cambiarle el nombre a las columnas:\n",
    "\n",
    "df_mis_cal.columns = ['Received', 'missed', 'Total']\n",
    "\n",
    "df_mis_cal['%_mis'] = df_mis_cal['missed']/df_mis_cal['Total']*100 "
   ]
  },
  {
   "cell_type": "code",
   "execution_count": 14,
   "id": "62993adc",
   "metadata": {
    "scrolled": true
   },
   "outputs": [
    {
     "data": {
      "text/html": [
       "<div>\n",
       "<style scoped>\n",
       "    .dataframe tbody tr th:only-of-type {\n",
       "        vertical-align: middle;\n",
       "    }\n",
       "\n",
       "    .dataframe tbody tr th {\n",
       "        vertical-align: top;\n",
       "    }\n",
       "\n",
       "    .dataframe thead th {\n",
       "        text-align: right;\n",
       "    }\n",
       "</style>\n",
       "<table border=\"1\" class=\"dataframe\">\n",
       "  <thead>\n",
       "    <tr style=\"text-align: right;\">\n",
       "      <th></th>\n",
       "      <th>operator_id</th>\n",
       "      <th>Received</th>\n",
       "      <th>missed</th>\n",
       "      <th>Total</th>\n",
       "      <th>%_mis</th>\n",
       "    </tr>\n",
       "  </thead>\n",
       "  <tbody>\n",
       "    <tr>\n",
       "      <th>0</th>\n",
       "      <td>937770.0</td>\n",
       "      <td>NaN</td>\n",
       "      <td>1.0</td>\n",
       "      <td>1</td>\n",
       "      <td>100.000000</td>\n",
       "    </tr>\n",
       "    <tr>\n",
       "      <th>1</th>\n",
       "      <td>962904.0</td>\n",
       "      <td>NaN</td>\n",
       "      <td>1.0</td>\n",
       "      <td>1</td>\n",
       "      <td>100.000000</td>\n",
       "    </tr>\n",
       "    <tr>\n",
       "      <th>2</th>\n",
       "      <td>969262.0</td>\n",
       "      <td>NaN</td>\n",
       "      <td>1.0</td>\n",
       "      <td>1</td>\n",
       "      <td>100.000000</td>\n",
       "    </tr>\n",
       "    <tr>\n",
       "      <th>3</th>\n",
       "      <td>937710.0</td>\n",
       "      <td>NaN</td>\n",
       "      <td>1.0</td>\n",
       "      <td>1</td>\n",
       "      <td>100.000000</td>\n",
       "    </tr>\n",
       "    <tr>\n",
       "      <th>4</th>\n",
       "      <td>937716.0</td>\n",
       "      <td>NaN</td>\n",
       "      <td>1.0</td>\n",
       "      <td>1</td>\n",
       "      <td>100.000000</td>\n",
       "    </tr>\n",
       "    <tr>\n",
       "      <th>5</th>\n",
       "      <td>883018.0</td>\n",
       "      <td>NaN</td>\n",
       "      <td>1.0</td>\n",
       "      <td>1</td>\n",
       "      <td>100.000000</td>\n",
       "    </tr>\n",
       "    <tr>\n",
       "      <th>6</th>\n",
       "      <td>937772.0</td>\n",
       "      <td>NaN</td>\n",
       "      <td>1.0</td>\n",
       "      <td>1</td>\n",
       "      <td>100.000000</td>\n",
       "    </tr>\n",
       "    <tr>\n",
       "      <th>7</th>\n",
       "      <td>937778.0</td>\n",
       "      <td>NaN</td>\n",
       "      <td>1.0</td>\n",
       "      <td>1</td>\n",
       "      <td>100.000000</td>\n",
       "    </tr>\n",
       "    <tr>\n",
       "      <th>8</th>\n",
       "      <td>937872.0</td>\n",
       "      <td>NaN</td>\n",
       "      <td>1.0</td>\n",
       "      <td>1</td>\n",
       "      <td>100.000000</td>\n",
       "    </tr>\n",
       "    <tr>\n",
       "      <th>9</th>\n",
       "      <td>954284.0</td>\n",
       "      <td>NaN</td>\n",
       "      <td>1.0</td>\n",
       "      <td>1</td>\n",
       "      <td>100.000000</td>\n",
       "    </tr>\n",
       "    <tr>\n",
       "      <th>10</th>\n",
       "      <td>960674.0</td>\n",
       "      <td>NaN</td>\n",
       "      <td>1.0</td>\n",
       "      <td>1</td>\n",
       "      <td>100.000000</td>\n",
       "    </tr>\n",
       "    <tr>\n",
       "      <th>11</th>\n",
       "      <td>941826.0</td>\n",
       "      <td>NaN</td>\n",
       "      <td>1.0</td>\n",
       "      <td>1</td>\n",
       "      <td>100.000000</td>\n",
       "    </tr>\n",
       "    <tr>\n",
       "      <th>12</th>\n",
       "      <td>945074.0</td>\n",
       "      <td>NaN</td>\n",
       "      <td>1.0</td>\n",
       "      <td>1</td>\n",
       "      <td>100.000000</td>\n",
       "    </tr>\n",
       "    <tr>\n",
       "      <th>13</th>\n",
       "      <td>945898.0</td>\n",
       "      <td>NaN</td>\n",
       "      <td>1.0</td>\n",
       "      <td>1</td>\n",
       "      <td>100.000000</td>\n",
       "    </tr>\n",
       "    <tr>\n",
       "      <th>14</th>\n",
       "      <td>946454.0</td>\n",
       "      <td>NaN</td>\n",
       "      <td>2.0</td>\n",
       "      <td>2</td>\n",
       "      <td>100.000000</td>\n",
       "    </tr>\n",
       "    <tr>\n",
       "      <th>15</th>\n",
       "      <td>958458.0</td>\n",
       "      <td>NaN</td>\n",
       "      <td>1.0</td>\n",
       "      <td>1</td>\n",
       "      <td>100.000000</td>\n",
       "    </tr>\n",
       "    <tr>\n",
       "      <th>16</th>\n",
       "      <td>936296.0</td>\n",
       "      <td>NaN</td>\n",
       "      <td>3.0</td>\n",
       "      <td>3</td>\n",
       "      <td>100.000000</td>\n",
       "    </tr>\n",
       "    <tr>\n",
       "      <th>17</th>\n",
       "      <td>969284.0</td>\n",
       "      <td>NaN</td>\n",
       "      <td>1.0</td>\n",
       "      <td>1</td>\n",
       "      <td>100.000000</td>\n",
       "    </tr>\n",
       "    <tr>\n",
       "      <th>18</th>\n",
       "      <td>932246.0</td>\n",
       "      <td>NaN</td>\n",
       "      <td>1.0</td>\n",
       "      <td>1</td>\n",
       "      <td>100.000000</td>\n",
       "    </tr>\n",
       "    <tr>\n",
       "      <th>19</th>\n",
       "      <td>928284.0</td>\n",
       "      <td>NaN</td>\n",
       "      <td>1.0</td>\n",
       "      <td>1</td>\n",
       "      <td>100.000000</td>\n",
       "    </tr>\n",
       "    <tr>\n",
       "      <th>20</th>\n",
       "      <td>928282.0</td>\n",
       "      <td>NaN</td>\n",
       "      <td>2.0</td>\n",
       "      <td>2</td>\n",
       "      <td>100.000000</td>\n",
       "    </tr>\n",
       "    <tr>\n",
       "      <th>21</th>\n",
       "      <td>924572.0</td>\n",
       "      <td>NaN</td>\n",
       "      <td>1.0</td>\n",
       "      <td>1</td>\n",
       "      <td>100.000000</td>\n",
       "    </tr>\n",
       "    <tr>\n",
       "      <th>22</th>\n",
       "      <td>919418.0</td>\n",
       "      <td>NaN</td>\n",
       "      <td>1.0</td>\n",
       "      <td>1</td>\n",
       "      <td>100.000000</td>\n",
       "    </tr>\n",
       "    <tr>\n",
       "      <th>23</th>\n",
       "      <td>914626.0</td>\n",
       "      <td>NaN</td>\n",
       "      <td>1.0</td>\n",
       "      <td>1</td>\n",
       "      <td>100.000000</td>\n",
       "    </tr>\n",
       "    <tr>\n",
       "      <th>24</th>\n",
       "      <td>914272.0</td>\n",
       "      <td>NaN</td>\n",
       "      <td>1.0</td>\n",
       "      <td>1</td>\n",
       "      <td>100.000000</td>\n",
       "    </tr>\n",
       "    <tr>\n",
       "      <th>25</th>\n",
       "      <td>970250.0</td>\n",
       "      <td>NaN</td>\n",
       "      <td>1.0</td>\n",
       "      <td>1</td>\n",
       "      <td>100.000000</td>\n",
       "    </tr>\n",
       "    <tr>\n",
       "      <th>26</th>\n",
       "      <td>909308.0</td>\n",
       "      <td>NaN</td>\n",
       "      <td>3.0</td>\n",
       "      <td>3</td>\n",
       "      <td>100.000000</td>\n",
       "    </tr>\n",
       "    <tr>\n",
       "      <th>27</th>\n",
       "      <td>905480.0</td>\n",
       "      <td>NaN</td>\n",
       "      <td>1.0</td>\n",
       "      <td>1</td>\n",
       "      <td>100.000000</td>\n",
       "    </tr>\n",
       "    <tr>\n",
       "      <th>28</th>\n",
       "      <td>905308.0</td>\n",
       "      <td>NaN</td>\n",
       "      <td>1.0</td>\n",
       "      <td>1</td>\n",
       "      <td>100.000000</td>\n",
       "    </tr>\n",
       "    <tr>\n",
       "      <th>29</th>\n",
       "      <td>899076.0</td>\n",
       "      <td>NaN</td>\n",
       "      <td>2.0</td>\n",
       "      <td>2</td>\n",
       "      <td>100.000000</td>\n",
       "    </tr>\n",
       "    <tr>\n",
       "      <th>30</th>\n",
       "      <td>970258.0</td>\n",
       "      <td>NaN</td>\n",
       "      <td>1.0</td>\n",
       "      <td>1</td>\n",
       "      <td>100.000000</td>\n",
       "    </tr>\n",
       "    <tr>\n",
       "      <th>31</th>\n",
       "      <td>891976.0</td>\n",
       "      <td>NaN</td>\n",
       "      <td>1.0</td>\n",
       "      <td>1</td>\n",
       "      <td>100.000000</td>\n",
       "    </tr>\n",
       "    <tr>\n",
       "      <th>32</th>\n",
       "      <td>885682.0</td>\n",
       "      <td>NaN</td>\n",
       "      <td>3.0</td>\n",
       "      <td>3</td>\n",
       "      <td>100.000000</td>\n",
       "    </tr>\n",
       "    <tr>\n",
       "      <th>33</th>\n",
       "      <td>955068.0</td>\n",
       "      <td>NaN</td>\n",
       "      <td>1.0</td>\n",
       "      <td>1</td>\n",
       "      <td>100.000000</td>\n",
       "    </tr>\n",
       "    <tr>\n",
       "      <th>34</th>\n",
       "      <td>-</td>\n",
       "      <td>113.0</td>\n",
       "      <td>7343.0</td>\n",
       "      <td>7456</td>\n",
       "      <td>98.484442</td>\n",
       "    </tr>\n",
       "    <tr>\n",
       "      <th>35</th>\n",
       "      <td>881278.0</td>\n",
       "      <td>1.0</td>\n",
       "      <td>7.0</td>\n",
       "      <td>8</td>\n",
       "      <td>87.500000</td>\n",
       "    </tr>\n",
       "    <tr>\n",
       "      <th>36</th>\n",
       "      <td>953460.0</td>\n",
       "      <td>1.0</td>\n",
       "      <td>5.0</td>\n",
       "      <td>6</td>\n",
       "      <td>83.333333</td>\n",
       "    </tr>\n",
       "    <tr>\n",
       "      <th>37</th>\n",
       "      <td>937650.0</td>\n",
       "      <td>1.0</td>\n",
       "      <td>5.0</td>\n",
       "      <td>6</td>\n",
       "      <td>83.333333</td>\n",
       "    </tr>\n",
       "    <tr>\n",
       "      <th>38</th>\n",
       "      <td>898434.0</td>\n",
       "      <td>1.0</td>\n",
       "      <td>5.0</td>\n",
       "      <td>6</td>\n",
       "      <td>83.333333</td>\n",
       "    </tr>\n",
       "    <tr>\n",
       "      <th>39</th>\n",
       "      <td>947480.0</td>\n",
       "      <td>1.0</td>\n",
       "      <td>3.0</td>\n",
       "      <td>4</td>\n",
       "      <td>75.000000</td>\n",
       "    </tr>\n",
       "    <tr>\n",
       "      <th>40</th>\n",
       "      <td>939718.0</td>\n",
       "      <td>1.0</td>\n",
       "      <td>3.0</td>\n",
       "      <td>4</td>\n",
       "      <td>75.000000</td>\n",
       "    </tr>\n",
       "    <tr>\n",
       "      <th>41</th>\n",
       "      <td>937870.0</td>\n",
       "      <td>1.0</td>\n",
       "      <td>3.0</td>\n",
       "      <td>4</td>\n",
       "      <td>75.000000</td>\n",
       "    </tr>\n",
       "    <tr>\n",
       "      <th>42</th>\n",
       "      <td>933452.0</td>\n",
       "      <td>1.0</td>\n",
       "      <td>3.0</td>\n",
       "      <td>4</td>\n",
       "      <td>75.000000</td>\n",
       "    </tr>\n",
       "    <tr>\n",
       "      <th>43</th>\n",
       "      <td>913868.0</td>\n",
       "      <td>1.0</td>\n",
       "      <td>3.0</td>\n",
       "      <td>4</td>\n",
       "      <td>75.000000</td>\n",
       "    </tr>\n",
       "  </tbody>\n",
       "</table>\n",
       "</div>"
      ],
      "text/plain": [
       "   operator_id  Received  missed  Total       %_mis\n",
       "0     937770.0       NaN     1.0      1  100.000000\n",
       "1     962904.0       NaN     1.0      1  100.000000\n",
       "2     969262.0       NaN     1.0      1  100.000000\n",
       "3     937710.0       NaN     1.0      1  100.000000\n",
       "4     937716.0       NaN     1.0      1  100.000000\n",
       "5     883018.0       NaN     1.0      1  100.000000\n",
       "6     937772.0       NaN     1.0      1  100.000000\n",
       "7     937778.0       NaN     1.0      1  100.000000\n",
       "8     937872.0       NaN     1.0      1  100.000000\n",
       "9     954284.0       NaN     1.0      1  100.000000\n",
       "10    960674.0       NaN     1.0      1  100.000000\n",
       "11    941826.0       NaN     1.0      1  100.000000\n",
       "12    945074.0       NaN     1.0      1  100.000000\n",
       "13    945898.0       NaN     1.0      1  100.000000\n",
       "14    946454.0       NaN     2.0      2  100.000000\n",
       "15    958458.0       NaN     1.0      1  100.000000\n",
       "16    936296.0       NaN     3.0      3  100.000000\n",
       "17    969284.0       NaN     1.0      1  100.000000\n",
       "18    932246.0       NaN     1.0      1  100.000000\n",
       "19    928284.0       NaN     1.0      1  100.000000\n",
       "20    928282.0       NaN     2.0      2  100.000000\n",
       "21    924572.0       NaN     1.0      1  100.000000\n",
       "22    919418.0       NaN     1.0      1  100.000000\n",
       "23    914626.0       NaN     1.0      1  100.000000\n",
       "24    914272.0       NaN     1.0      1  100.000000\n",
       "25    970250.0       NaN     1.0      1  100.000000\n",
       "26    909308.0       NaN     3.0      3  100.000000\n",
       "27    905480.0       NaN     1.0      1  100.000000\n",
       "28    905308.0       NaN     1.0      1  100.000000\n",
       "29    899076.0       NaN     2.0      2  100.000000\n",
       "30    970258.0       NaN     1.0      1  100.000000\n",
       "31    891976.0       NaN     1.0      1  100.000000\n",
       "32    885682.0       NaN     3.0      3  100.000000\n",
       "33    955068.0       NaN     1.0      1  100.000000\n",
       "34           -     113.0  7343.0   7456   98.484442\n",
       "35    881278.0       1.0     7.0      8   87.500000\n",
       "36    953460.0       1.0     5.0      6   83.333333\n",
       "37    937650.0       1.0     5.0      6   83.333333\n",
       "38    898434.0       1.0     5.0      6   83.333333\n",
       "39    947480.0       1.0     3.0      4   75.000000\n",
       "40    939718.0       1.0     3.0      4   75.000000\n",
       "41    937870.0       1.0     3.0      4   75.000000\n",
       "42    933452.0       1.0     3.0      4   75.000000\n",
       "43    913868.0       1.0     3.0      4   75.000000"
      ]
     },
     "execution_count": 14,
     "metadata": {},
     "output_type": "execute_result"
    }
   ],
   "source": [
    "#Ahora vamos a filtrar a todos los operadores que tienen más del 70% de llamadas perdidas:\n",
    "\n",
    "df_70 = df_mis_cal[df_mis_cal['%_mis']>=70]\n",
    "\n",
    "df_70.sort_values(by= '%_mis', ascending = False).reset_index()\n"
   ]
  },
  {
   "cell_type": "code",
   "execution_count": 15,
   "id": "6a9ff78c",
   "metadata": {
    "scrolled": true
   },
   "outputs": [
    {
     "data": {
      "text/html": [
       "<div>\n",
       "<style scoped>\n",
       "    .dataframe tbody tr th:only-of-type {\n",
       "        vertical-align: middle;\n",
       "    }\n",
       "\n",
       "    .dataframe tbody tr th {\n",
       "        vertical-align: top;\n",
       "    }\n",
       "\n",
       "    .dataframe thead th {\n",
       "        text-align: right;\n",
       "    }\n",
       "</style>\n",
       "<table border=\"1\" class=\"dataframe\">\n",
       "  <thead>\n",
       "    <tr style=\"text-align: right;\">\n",
       "      <th></th>\n",
       "      <th>operator_id</th>\n",
       "      <th>Received</th>\n",
       "      <th>missed</th>\n",
       "      <th>Total</th>\n",
       "      <th>%_mis</th>\n",
       "    </tr>\n",
       "  </thead>\n",
       "  <tbody>\n",
       "    <tr>\n",
       "      <th>0</th>\n",
       "      <td>-</td>\n",
       "      <td>113.0</td>\n",
       "      <td>7343.0</td>\n",
       "      <td>7456</td>\n",
       "      <td>98.484442</td>\n",
       "    </tr>\n",
       "    <tr>\n",
       "      <th>1</th>\n",
       "      <td>881278.0</td>\n",
       "      <td>1.0</td>\n",
       "      <td>7.0</td>\n",
       "      <td>8</td>\n",
       "      <td>87.500000</td>\n",
       "    </tr>\n",
       "    <tr>\n",
       "      <th>2</th>\n",
       "      <td>898434.0</td>\n",
       "      <td>1.0</td>\n",
       "      <td>5.0</td>\n",
       "      <td>6</td>\n",
       "      <td>83.333333</td>\n",
       "    </tr>\n",
       "    <tr>\n",
       "      <th>3</th>\n",
       "      <td>937650.0</td>\n",
       "      <td>1.0</td>\n",
       "      <td>5.0</td>\n",
       "      <td>6</td>\n",
       "      <td>83.333333</td>\n",
       "    </tr>\n",
       "    <tr>\n",
       "      <th>4</th>\n",
       "      <td>953460.0</td>\n",
       "      <td>1.0</td>\n",
       "      <td>5.0</td>\n",
       "      <td>6</td>\n",
       "      <td>83.333333</td>\n",
       "    </tr>\n",
       "    <tr>\n",
       "      <th>5</th>\n",
       "      <td>913868.0</td>\n",
       "      <td>1.0</td>\n",
       "      <td>3.0</td>\n",
       "      <td>4</td>\n",
       "      <td>75.000000</td>\n",
       "    </tr>\n",
       "    <tr>\n",
       "      <th>6</th>\n",
       "      <td>933452.0</td>\n",
       "      <td>1.0</td>\n",
       "      <td>3.0</td>\n",
       "      <td>4</td>\n",
       "      <td>75.000000</td>\n",
       "    </tr>\n",
       "    <tr>\n",
       "      <th>7</th>\n",
       "      <td>937870.0</td>\n",
       "      <td>1.0</td>\n",
       "      <td>3.0</td>\n",
       "      <td>4</td>\n",
       "      <td>75.000000</td>\n",
       "    </tr>\n",
       "    <tr>\n",
       "      <th>8</th>\n",
       "      <td>939718.0</td>\n",
       "      <td>1.0</td>\n",
       "      <td>3.0</td>\n",
       "      <td>4</td>\n",
       "      <td>75.000000</td>\n",
       "    </tr>\n",
       "    <tr>\n",
       "      <th>9</th>\n",
       "      <td>947480.0</td>\n",
       "      <td>1.0</td>\n",
       "      <td>3.0</td>\n",
       "      <td>4</td>\n",
       "      <td>75.000000</td>\n",
       "    </tr>\n",
       "  </tbody>\n",
       "</table>\n",
       "</div>"
      ],
      "text/plain": [
       "  operator_id  Received  missed  Total      %_mis\n",
       "0           -     113.0  7343.0   7456  98.484442\n",
       "1    881278.0       1.0     7.0      8  87.500000\n",
       "2    898434.0       1.0     5.0      6  83.333333\n",
       "3    937650.0       1.0     5.0      6  83.333333\n",
       "4    953460.0       1.0     5.0      6  83.333333\n",
       "5    913868.0       1.0     3.0      4  75.000000\n",
       "6    933452.0       1.0     3.0      4  75.000000\n",
       "7    937870.0       1.0     3.0      4  75.000000\n",
       "8    939718.0       1.0     3.0      4  75.000000\n",
       "9    947480.0       1.0     3.0      4  75.000000"
      ]
     },
     "execution_count": 15,
     "metadata": {},
     "output_type": "execute_result"
    }
   ],
   "source": [
    "#Vamos a eliminar a los que no tienen llamadas recibidas:\n",
    "\n",
    "df_70_ok = df_70[df_70['%_mis'] < 100].sort_values(by = '%_mis' , ascending = False).reset_index()\n",
    "\n",
    "df_70_ok"
   ]
  },
  {
   "cell_type": "markdown",
   "id": "21c57c2a",
   "metadata": {},
   "source": [
    "Estas 9 personas serían los operadores más ineficaces de este 1er punto."
   ]
  },
  {
   "cell_type": "code",
   "execution_count": 16,
   "id": "31de63fe",
   "metadata": {},
   "outputs": [
    {
     "data": {
      "text/plain": [
       "55.0"
      ]
     },
     "execution_count": 16,
     "metadata": {},
     "output_type": "execute_result"
    }
   ],
   "source": [
    "#Ahora vamos a analizar la consideración N.2: Tiene un tiempo de espera prolongado para las llamadas entrantes.\n",
    "\n",
    "#Para este punto vamos a considerar lo siguiente:\n",
    "\n",
    "# `call_duration`: duración de la llamada (sin incluir el tiempo de espera)\n",
    "# `total_call_duration`: duración de la llamada (incluido el tiempo de espera)\n",
    "\n",
    "#Por lo que vamos a crear una columna que sea la resta de estos 2 indicadores:\n",
    "\n",
    "df_info['t_wait'] = df_info['total_call_duration'] - df_info['call_duration']\n",
    "\n",
    "df_info['t_wait'].median()\n"
   ]
  },
  {
   "cell_type": "code",
   "execution_count": 17,
   "id": "31a6c832",
   "metadata": {
    "scrolled": false
   },
   "outputs": [
    {
     "data": {
      "image/png": "[encoded data removed]",
      "text/plain": [
       "<Figure size 640x480 with 1 Axes>"
      ]
     },
     "metadata": {},
     "output_type": "display_data"
    }
   ],
   "source": [
    "#Ahora vamos a graficar un histograma para ver cuanto tiempo esperan los clientes antes de que contesten sus llamadas:\n",
    "\n",
    "sns.histplot(df_info['t_wait'], bins= 50)\n",
    "plt.title('Tiempos de Espera')\n",
    "plt.xlabel('Tiempo de Espera (segundos)')\n",
    "plt.ylabel('Frecuencia')\n",
    "plt.show()"
   ]
  },
  {
   "cell_type": "markdown",
   "id": "5c0ff8e4",
   "metadata": {},
   "source": [
    "En esta visualización podemos ver que la mayoría de los datos están pegados al \"0\". Adicional comentar que se calculó el valor de la mediana, la cual es de 55 segundos, por lo que podemos comprobar que los clientes esperan menos de 1 minuto en ser atendidos. Este es un punto bueno para los operadores ya que el tiempo de espera es relativamente corto."
   ]
  },
  {
   "cell_type": "code",
   "execution_count": 18,
   "id": "77a3f59f",
   "metadata": {
    "scrolled": true
   },
   "outputs": [
    {
     "data": {
      "text/html": [
       "<div>\n",
       "<style scoped>\n",
       "    .dataframe tbody tr th:only-of-type {\n",
       "        vertical-align: middle;\n",
       "    }\n",
       "\n",
       "    .dataframe tbody tr th {\n",
       "        vertical-align: top;\n",
       "    }\n",
       "\n",
       "    .dataframe thead th {\n",
       "        text-align: right;\n",
       "    }\n",
       "</style>\n",
       "<table border=\"1\" class=\"dataframe\">\n",
       "  <thead>\n",
       "    <tr style=\"text-align: right;\">\n",
       "      <th></th>\n",
       "      <th>index</th>\n",
       "      <th>operator_id</th>\n",
       "      <th>t_wait</th>\n",
       "    </tr>\n",
       "  </thead>\n",
       "  <tbody>\n",
       "    <tr>\n",
       "      <th>0</th>\n",
       "      <td>0</td>\n",
       "      <td>885890.0</td>\n",
       "      <td>4525.0</td>\n",
       "    </tr>\n",
       "    <tr>\n",
       "      <th>1</th>\n",
       "      <td>1</td>\n",
       "      <td>929428.0</td>\n",
       "      <td>3030.0</td>\n",
       "    </tr>\n",
       "    <tr>\n",
       "      <th>2</th>\n",
       "      <td>2</td>\n",
       "      <td>925922.0</td>\n",
       "      <td>3007.0</td>\n",
       "    </tr>\n",
       "    <tr>\n",
       "      <th>3</th>\n",
       "      <td>3</td>\n",
       "      <td>908640.0</td>\n",
       "      <td>2885.0</td>\n",
       "    </tr>\n",
       "    <tr>\n",
       "      <th>4</th>\n",
       "      <td>4</td>\n",
       "      <td>919364.0</td>\n",
       "      <td>2784.0</td>\n",
       "    </tr>\n",
       "    <tr>\n",
       "      <th>...</th>\n",
       "      <td>...</td>\n",
       "      <td>...</td>\n",
       "      <td>...</td>\n",
       "    </tr>\n",
       "    <tr>\n",
       "      <th>147</th>\n",
       "      <td>147</td>\n",
       "      <td>947652.0</td>\n",
       "      <td>304.5</td>\n",
       "    </tr>\n",
       "    <tr>\n",
       "      <th>148</th>\n",
       "      <td>148</td>\n",
       "      <td>947604.0</td>\n",
       "      <td>303.0</td>\n",
       "    </tr>\n",
       "    <tr>\n",
       "      <th>149</th>\n",
       "      <td>149</td>\n",
       "      <td>943050.0</td>\n",
       "      <td>295.0</td>\n",
       "    </tr>\n",
       "    <tr>\n",
       "      <th>150</th>\n",
       "      <td>150</td>\n",
       "      <td>919552.0</td>\n",
       "      <td>281.0</td>\n",
       "    </tr>\n",
       "    <tr>\n",
       "      <th>151</th>\n",
       "      <td>151</td>\n",
       "      <td>937752.0</td>\n",
       "      <td>280.0</td>\n",
       "    </tr>\n",
       "  </tbody>\n",
       "</table>\n",
       "<p>152 rows × 3 columns</p>\n",
       "</div>"
      ],
      "text/plain": [
       "     index operator_id  t_wait\n",
       "0        0    885890.0  4525.0\n",
       "1        1    929428.0  3030.0\n",
       "2        2    925922.0  3007.0\n",
       "3        3    908640.0  2885.0\n",
       "4        4    919364.0  2784.0\n",
       "..     ...         ...     ...\n",
       "147    147    947652.0   304.5\n",
       "148    148    947604.0   303.0\n",
       "149    149    943050.0   295.0\n",
       "150    150    919552.0   281.0\n",
       "151    151    937752.0   280.0\n",
       "\n",
       "[152 rows x 3 columns]"
      ]
     },
     "execution_count": 18,
     "metadata": {},
     "output_type": "execute_result"
    }
   ],
   "source": [
    "#Ahora vamos a identificar a los operadores que cumplen con este segundo punto:\n",
    "\n",
    "#Vamos a agrupar el df por operator_id y vamos a promediar sus tiempos de espera:\n",
    "\n",
    "waiting_time = df_info.groupby('operator_id')['t_wait'].median().sort_values( ascending = False).reset_index()\n",
    "\n",
    "#Ahora considerando que la mediana del df es de 55 segundos, vamos a filtrar a los operadores que estén 5 veces por arriba\n",
    "#de este estandar (275):\n",
    "\n",
    "waiting_time_5 = waiting_time[waiting_time['t_wait']> 275].sort_values(by = 't_wait', ascending = False).reset_index()\n",
    "\n",
    "waiting_time_5"
   ]
  },
  {
   "cell_type": "markdown",
   "id": "cd300182",
   "metadata": {},
   "source": [
    "Estas 152 personas, son las que tienen tiempos de espera más altos."
   ]
  },
  {
   "cell_type": "code",
   "execution_count": 19,
   "id": "26bd88c1",
   "metadata": {
    "scrolled": true
   },
   "outputs": [
    {
     "data": {
      "text/html": [
       "<div>\n",
       "<style scoped>\n",
       "    .dataframe tbody tr th:only-of-type {\n",
       "        vertical-align: middle;\n",
       "    }\n",
       "\n",
       "    .dataframe tbody tr th {\n",
       "        vertical-align: top;\n",
       "    }\n",
       "\n",
       "    .dataframe thead th {\n",
       "        text-align: right;\n",
       "    }\n",
       "</style>\n",
       "<table border=\"1\" class=\"dataframe\">\n",
       "  <thead>\n",
       "    <tr style=\"text-align: right;\">\n",
       "      <th></th>\n",
       "      <th>direction</th>\n",
       "      <th>calls_count</th>\n",
       "    </tr>\n",
       "  </thead>\n",
       "  <tbody>\n",
       "    <tr>\n",
       "      <th>0</th>\n",
       "      <td>in</td>\n",
       "      <td>20003</td>\n",
       "    </tr>\n",
       "    <tr>\n",
       "      <th>1</th>\n",
       "      <td>out</td>\n",
       "      <td>28999</td>\n",
       "    </tr>\n",
       "  </tbody>\n",
       "</table>\n",
       "</div>"
      ],
      "text/plain": [
       "  direction  calls_count\n",
       "0        in        20003\n",
       "1       out        28999"
      ]
     },
     "execution_count": 19,
     "metadata": {},
     "output_type": "execute_result"
    }
   ],
   "source": [
    "#Ahora vamos a analizar la consideración N.3: Tiene un número reducido de llamadas salientes:\n",
    "\n",
    "#Para esto vamos a agrupar el df por tipo de llamada (entrada o saliente):\n",
    "\n",
    "df_dir = df_info.groupby('direction')['calls_count'].count().reset_index()\n",
    "\n",
    "df_dir"
   ]
  },
  {
   "cell_type": "code",
   "execution_count": 20,
   "id": "070e705f",
   "metadata": {
    "scrolled": false
   },
   "outputs": [
    {
     "data": {
      "image/png": "[encoded data removed]",
      "text/plain": [
       "<Figure size 640x480 with 1 Axes>"
      ]
     },
     "metadata": {},
     "output_type": "display_data"
    }
   ],
   "source": [
    "#Vamos a hacer una gráfica de pie para visualizar este df:\n",
    "\n",
    "colors_dir = sns.color_palette('pastel')[0:4]\n",
    "plt.pie(df_dir['calls_count'], labels=df_dir['direction'], colors=colors_dir, autopct='%.0f%%')\n",
    "plt.show()"
   ]
  },
  {
   "cell_type": "markdown",
   "id": "cee7cad0",
   "metadata": {},
   "source": [
    "El último punto considera que los operadores son ineficaces si: Tiene un número reducido de llamadas salientes, en este caso el 59% de las llamadas son salientes, por lo que no es un número reducido de llamadas, es decir; este es un punto bueno para los operadores."
   ]
  },
  {
   "cell_type": "code",
   "execution_count": 21,
   "id": "170ae35b",
   "metadata": {},
   "outputs": [],
   "source": [
    "#Ahora vamos a identificar a los operadores que cumplen con este tercer punto:\n",
    "\n",
    "#Para esto vamos a generar una pivot table agrupando el df por operator_id y vamos a contar el tipo de llamadas:\n",
    "\n",
    "pivot_out = df_info.pivot_table(\n",
    "                                index='operator_id',\n",
    "                                columns='direction',\n",
    "                                values='calls_count',\n",
    "                                aggfunc='count',\n",
    "                                margins=True, \n",
    "                                margins_name='Total'\n",
    "                                )\n"
   ]
  },
  {
   "cell_type": "code",
   "execution_count": 22,
   "id": "2f596799",
   "metadata": {
    "scrolled": false
   },
   "outputs": [
    {
     "data": {
      "text/html": [
       "<div>\n",
       "<style scoped>\n",
       "    .dataframe tbody tr th:only-of-type {\n",
       "        vertical-align: middle;\n",
       "    }\n",
       "\n",
       "    .dataframe tbody tr th {\n",
       "        vertical-align: top;\n",
       "    }\n",
       "\n",
       "    .dataframe thead th {\n",
       "        text-align: right;\n",
       "    }\n",
       "</style>\n",
       "<table border=\"1\" class=\"dataframe\">\n",
       "  <thead>\n",
       "    <tr style=\"text-align: right;\">\n",
       "      <th>direction</th>\n",
       "      <th>operator_id</th>\n",
       "      <th>in</th>\n",
       "      <th>out</th>\n",
       "      <th>Total</th>\n",
       "      <th>%_out</th>\n",
       "    </tr>\n",
       "  </thead>\n",
       "  <tbody>\n",
       "    <tr>\n",
       "      <th>0</th>\n",
       "      <td>930816.0</td>\n",
       "      <td>4.0</td>\n",
       "      <td>1.0</td>\n",
       "      <td>5</td>\n",
       "      <td>20.000000</td>\n",
       "    </tr>\n",
       "    <tr>\n",
       "      <th>1</th>\n",
       "      <td>908080.0</td>\n",
       "      <td>4.0</td>\n",
       "      <td>1.0</td>\n",
       "      <td>5</td>\n",
       "      <td>20.000000</td>\n",
       "    </tr>\n",
       "    <tr>\n",
       "      <th>2</th>\n",
       "      <td>935548.0</td>\n",
       "      <td>12.0</td>\n",
       "      <td>3.0</td>\n",
       "      <td>15</td>\n",
       "      <td>20.000000</td>\n",
       "    </tr>\n",
       "    <tr>\n",
       "      <th>3</th>\n",
       "      <td>908834.0</td>\n",
       "      <td>4.0</td>\n",
       "      <td>1.0</td>\n",
       "      <td>5</td>\n",
       "      <td>20.000000</td>\n",
       "    </tr>\n",
       "    <tr>\n",
       "      <th>4</th>\n",
       "      <td>949420.0</td>\n",
       "      <td>4.0</td>\n",
       "      <td>1.0</td>\n",
       "      <td>5</td>\n",
       "      <td>20.000000</td>\n",
       "    </tr>\n",
       "    <tr>\n",
       "      <th>5</th>\n",
       "      <td>940630.0</td>\n",
       "      <td>49.0</td>\n",
       "      <td>12.0</td>\n",
       "      <td>61</td>\n",
       "      <td>19.672131</td>\n",
       "    </tr>\n",
       "    <tr>\n",
       "      <th>6</th>\n",
       "      <td>944476.0</td>\n",
       "      <td>26.0</td>\n",
       "      <td>6.0</td>\n",
       "      <td>32</td>\n",
       "      <td>18.750000</td>\n",
       "    </tr>\n",
       "    <tr>\n",
       "      <th>7</th>\n",
       "      <td>930814.0</td>\n",
       "      <td>9.0</td>\n",
       "      <td>2.0</td>\n",
       "      <td>11</td>\n",
       "      <td>18.181818</td>\n",
       "    </tr>\n",
       "    <tr>\n",
       "      <th>8</th>\n",
       "      <td>919790.0</td>\n",
       "      <td>61.0</td>\n",
       "      <td>13.0</td>\n",
       "      <td>74</td>\n",
       "      <td>17.567568</td>\n",
       "    </tr>\n",
       "    <tr>\n",
       "      <th>9</th>\n",
       "      <td>944246.0</td>\n",
       "      <td>5.0</td>\n",
       "      <td>1.0</td>\n",
       "      <td>6</td>\n",
       "      <td>16.666667</td>\n",
       "    </tr>\n",
       "    <tr>\n",
       "      <th>10</th>\n",
       "      <td>930820.0</td>\n",
       "      <td>5.0</td>\n",
       "      <td>1.0</td>\n",
       "      <td>6</td>\n",
       "      <td>16.666667</td>\n",
       "    </tr>\n",
       "    <tr>\n",
       "      <th>11</th>\n",
       "      <td>891918.0</td>\n",
       "      <td>5.0</td>\n",
       "      <td>1.0</td>\n",
       "      <td>6</td>\n",
       "      <td>16.666667</td>\n",
       "    </tr>\n",
       "    <tr>\n",
       "      <th>12</th>\n",
       "      <td>891908.0</td>\n",
       "      <td>27.0</td>\n",
       "      <td>5.0</td>\n",
       "      <td>32</td>\n",
       "      <td>15.625000</td>\n",
       "    </tr>\n",
       "    <tr>\n",
       "      <th>13</th>\n",
       "      <td>952462.0</td>\n",
       "      <td>6.0</td>\n",
       "      <td>1.0</td>\n",
       "      <td>7</td>\n",
       "      <td>14.285714</td>\n",
       "    </tr>\n",
       "    <tr>\n",
       "      <th>14</th>\n",
       "      <td>901492.0</td>\n",
       "      <td>24.0</td>\n",
       "      <td>3.0</td>\n",
       "      <td>27</td>\n",
       "      <td>11.111111</td>\n",
       "    </tr>\n",
       "    <tr>\n",
       "      <th>15</th>\n",
       "      <td>930326.0</td>\n",
       "      <td>8.0</td>\n",
       "      <td>1.0</td>\n",
       "      <td>9</td>\n",
       "      <td>11.111111</td>\n",
       "    </tr>\n",
       "    <tr>\n",
       "      <th>16</th>\n",
       "      <td>919554.0</td>\n",
       "      <td>76.0</td>\n",
       "      <td>8.0</td>\n",
       "      <td>84</td>\n",
       "      <td>9.523810</td>\n",
       "    </tr>\n",
       "    <tr>\n",
       "      <th>17</th>\n",
       "      <td>919214.0</td>\n",
       "      <td>10.0</td>\n",
       "      <td>1.0</td>\n",
       "      <td>11</td>\n",
       "      <td>9.090909</td>\n",
       "    </tr>\n",
       "    <tr>\n",
       "      <th>18</th>\n",
       "      <td>921062.0</td>\n",
       "      <td>34.0</td>\n",
       "      <td>3.0</td>\n",
       "      <td>37</td>\n",
       "      <td>8.108108</td>\n",
       "    </tr>\n",
       "    <tr>\n",
       "      <th>19</th>\n",
       "      <td>893172.0</td>\n",
       "      <td>23.0</td>\n",
       "      <td>2.0</td>\n",
       "      <td>25</td>\n",
       "      <td>8.000000</td>\n",
       "    </tr>\n",
       "    <tr>\n",
       "      <th>20</th>\n",
       "      <td>940430.0</td>\n",
       "      <td>25.0</td>\n",
       "      <td>2.0</td>\n",
       "      <td>27</td>\n",
       "      <td>7.407407</td>\n",
       "    </tr>\n",
       "    <tr>\n",
       "      <th>21</th>\n",
       "      <td>909134.0</td>\n",
       "      <td>65.0</td>\n",
       "      <td>5.0</td>\n",
       "      <td>70</td>\n",
       "      <td>7.142857</td>\n",
       "    </tr>\n",
       "    <tr>\n",
       "      <th>22</th>\n",
       "      <td>914256.0</td>\n",
       "      <td>15.0</td>\n",
       "      <td>1.0</td>\n",
       "      <td>16</td>\n",
       "      <td>6.250000</td>\n",
       "    </tr>\n",
       "    <tr>\n",
       "      <th>23</th>\n",
       "      <td>919206.0</td>\n",
       "      <td>19.0</td>\n",
       "      <td>1.0</td>\n",
       "      <td>20</td>\n",
       "      <td>5.000000</td>\n",
       "    </tr>\n",
       "    <tr>\n",
       "      <th>24</th>\n",
       "      <td>914440.0</td>\n",
       "      <td>19.0</td>\n",
       "      <td>1.0</td>\n",
       "      <td>20</td>\n",
       "      <td>5.000000</td>\n",
       "    </tr>\n",
       "    <tr>\n",
       "      <th>25</th>\n",
       "      <td>905862.0</td>\n",
       "      <td>37.0</td>\n",
       "      <td>1.0</td>\n",
       "      <td>38</td>\n",
       "      <td>2.631579</td>\n",
       "    </tr>\n",
       "    <tr>\n",
       "      <th>26</th>\n",
       "      <td>-</td>\n",
       "      <td>7270.0</td>\n",
       "      <td>186.0</td>\n",
       "      <td>7456</td>\n",
       "      <td>2.494635</td>\n",
       "    </tr>\n",
       "    <tr>\n",
       "      <th>27</th>\n",
       "      <td>937956.0</td>\n",
       "      <td>59.0</td>\n",
       "      <td>1.0</td>\n",
       "      <td>60</td>\n",
       "      <td>1.666667</td>\n",
       "    </tr>\n",
       "  </tbody>\n",
       "</table>\n",
       "</div>"
      ],
      "text/plain": [
       "direction operator_id      in    out  Total      %_out\n",
       "0            930816.0     4.0    1.0      5  20.000000\n",
       "1            908080.0     4.0    1.0      5  20.000000\n",
       "2            935548.0    12.0    3.0     15  20.000000\n",
       "3            908834.0     4.0    1.0      5  20.000000\n",
       "4            949420.0     4.0    1.0      5  20.000000\n",
       "5            940630.0    49.0   12.0     61  19.672131\n",
       "6            944476.0    26.0    6.0     32  18.750000\n",
       "7            930814.0     9.0    2.0     11  18.181818\n",
       "8            919790.0    61.0   13.0     74  17.567568\n",
       "9            944246.0     5.0    1.0      6  16.666667\n",
       "10           930820.0     5.0    1.0      6  16.666667\n",
       "11           891918.0     5.0    1.0      6  16.666667\n",
       "12           891908.0    27.0    5.0     32  15.625000\n",
       "13           952462.0     6.0    1.0      7  14.285714\n",
       "14           901492.0    24.0    3.0     27  11.111111\n",
       "15           930326.0     8.0    1.0      9  11.111111\n",
       "16           919554.0    76.0    8.0     84   9.523810\n",
       "17           919214.0    10.0    1.0     11   9.090909\n",
       "18           921062.0    34.0    3.0     37   8.108108\n",
       "19           893172.0    23.0    2.0     25   8.000000\n",
       "20           940430.0    25.0    2.0     27   7.407407\n",
       "21           909134.0    65.0    5.0     70   7.142857\n",
       "22           914256.0    15.0    1.0     16   6.250000\n",
       "23           919206.0    19.0    1.0     20   5.000000\n",
       "24           914440.0    19.0    1.0     20   5.000000\n",
       "25           905862.0    37.0    1.0     38   2.631579\n",
       "26                  -  7270.0  186.0   7456   2.494635\n",
       "27           937956.0    59.0    1.0     60   1.666667"
      ]
     },
     "execution_count": 22,
     "metadata": {},
     "output_type": "execute_result"
    }
   ],
   "source": [
    "#Ahora vamos a agregar una columna con el % de llamadas salientes:\n",
    "\n",
    "pivot_out['%_out'] = pivot_out['out'] / pivot_out['Total']*100\n",
    "\n",
    "\n",
    "pivot_out.sort_values(by = 'Total', ascending = False).reset_index()\n",
    "\n",
    "\n",
    "#Ahora vamos a quitar los nulos:\n",
    "\n",
    "pivot_out.dropna(inplace=True)\n",
    "\n",
    "#Ahora vamos a filtrar los que tengan menos del 20% de llamadas salientes \n",
    "\n",
    "out_20 = pivot_out[pivot_out['%_out']<=20].sort_values(by= '%_out', ascending = False).reset_index()\n",
    "\n",
    "out_20"
   ]
  },
  {
   "cell_type": "markdown",
   "id": "ef1af962",
   "metadata": {},
   "source": [
    "Estas 28 personas serían las más ineficaces en este 3er punto."
   ]
  },
  {
   "cell_type": "code",
   "execution_count": 23,
   "id": "68b95696",
   "metadata": {
    "scrolled": true
   },
   "outputs": [
    {
     "data": {
      "text/html": [
       "<div>\n",
       "<style scoped>\n",
       "    .dataframe tbody tr th:only-of-type {\n",
       "        vertical-align: middle;\n",
       "    }\n",
       "\n",
       "    .dataframe tbody tr th {\n",
       "        vertical-align: top;\n",
       "    }\n",
       "\n",
       "    .dataframe thead th {\n",
       "        text-align: right;\n",
       "    }\n",
       "</style>\n",
       "<table border=\"1\" class=\"dataframe\">\n",
       "  <thead>\n",
       "    <tr style=\"text-align: right;\">\n",
       "      <th></th>\n",
       "      <th>operator_id</th>\n",
       "      <th>calls_count</th>\n",
       "      <th>index_x</th>\n",
       "      <th>%_mis</th>\n",
       "      <th>index_y</th>\n",
       "      <th>t_wait</th>\n",
       "      <th>index</th>\n",
       "      <th>%_out</th>\n",
       "    </tr>\n",
       "  </thead>\n",
       "  <tbody>\n",
       "    <tr>\n",
       "      <th>0</th>\n",
       "      <td>879896.0</td>\n",
       "      <td>117</td>\n",
       "      <td>NaN</td>\n",
       "      <td>NaN</td>\n",
       "      <td>NaN</td>\n",
       "      <td>NaN</td>\n",
       "      <td>NaN</td>\n",
       "      <td>NaN</td>\n",
       "    </tr>\n",
       "    <tr>\n",
       "      <th>1</th>\n",
       "      <td>879898.0</td>\n",
       "      <td>227</td>\n",
       "      <td>NaN</td>\n",
       "      <td>NaN</td>\n",
       "      <td>126.0</td>\n",
       "      <td>393.0</td>\n",
       "      <td>NaN</td>\n",
       "      <td>NaN</td>\n",
       "    </tr>\n",
       "    <tr>\n",
       "      <th>2</th>\n",
       "      <td>880020.0</td>\n",
       "      <td>20</td>\n",
       "      <td>NaN</td>\n",
       "      <td>NaN</td>\n",
       "      <td>NaN</td>\n",
       "      <td>NaN</td>\n",
       "      <td>NaN</td>\n",
       "      <td>NaN</td>\n",
       "    </tr>\n",
       "    <tr>\n",
       "      <th>3</th>\n",
       "      <td>880022.0</td>\n",
       "      <td>70</td>\n",
       "      <td>NaN</td>\n",
       "      <td>NaN</td>\n",
       "      <td>NaN</td>\n",
       "      <td>NaN</td>\n",
       "      <td>NaN</td>\n",
       "      <td>NaN</td>\n",
       "    </tr>\n",
       "    <tr>\n",
       "      <th>4</th>\n",
       "      <td>880026.0</td>\n",
       "      <td>182</td>\n",
       "      <td>NaN</td>\n",
       "      <td>NaN</td>\n",
       "      <td>NaN</td>\n",
       "      <td>NaN</td>\n",
       "      <td>NaN</td>\n",
       "      <td>NaN</td>\n",
       "    </tr>\n",
       "    <tr>\n",
       "      <th>...</th>\n",
       "      <td>...</td>\n",
       "      <td>...</td>\n",
       "      <td>...</td>\n",
       "      <td>...</td>\n",
       "      <td>...</td>\n",
       "      <td>...</td>\n",
       "      <td>...</td>\n",
       "      <td>...</td>\n",
       "    </tr>\n",
       "    <tr>\n",
       "      <th>1088</th>\n",
       "      <td>972412.0</td>\n",
       "      <td>5</td>\n",
       "      <td>NaN</td>\n",
       "      <td>NaN</td>\n",
       "      <td>NaN</td>\n",
       "      <td>NaN</td>\n",
       "      <td>NaN</td>\n",
       "      <td>NaN</td>\n",
       "    </tr>\n",
       "    <tr>\n",
       "      <th>1089</th>\n",
       "      <td>972460.0</td>\n",
       "      <td>7</td>\n",
       "      <td>NaN</td>\n",
       "      <td>NaN</td>\n",
       "      <td>NaN</td>\n",
       "      <td>NaN</td>\n",
       "      <td>NaN</td>\n",
       "      <td>NaN</td>\n",
       "    </tr>\n",
       "    <tr>\n",
       "      <th>1090</th>\n",
       "      <td>973120.0</td>\n",
       "      <td>2</td>\n",
       "      <td>NaN</td>\n",
       "      <td>NaN</td>\n",
       "      <td>NaN</td>\n",
       "      <td>NaN</td>\n",
       "      <td>NaN</td>\n",
       "      <td>NaN</td>\n",
       "    </tr>\n",
       "    <tr>\n",
       "      <th>1091</th>\n",
       "      <td>973286.0</td>\n",
       "      <td>1</td>\n",
       "      <td>NaN</td>\n",
       "      <td>NaN</td>\n",
       "      <td>NaN</td>\n",
       "      <td>NaN</td>\n",
       "      <td>NaN</td>\n",
       "      <td>NaN</td>\n",
       "    </tr>\n",
       "    <tr>\n",
       "      <th>1092</th>\n",
       "      <td>-</td>\n",
       "      <td>7456</td>\n",
       "      <td>0.0</td>\n",
       "      <td>98.484442</td>\n",
       "      <td>NaN</td>\n",
       "      <td>NaN</td>\n",
       "      <td>26.0</td>\n",
       "      <td>2.494635</td>\n",
       "    </tr>\n",
       "  </tbody>\n",
       "</table>\n",
       "<p>1093 rows × 8 columns</p>\n",
       "</div>"
      ],
      "text/plain": [
       "     operator_id  calls_count  index_x      %_mis  index_y  t_wait  index  \\\n",
       "0       879896.0          117      NaN        NaN      NaN     NaN    NaN   \n",
       "1       879898.0          227      NaN        NaN    126.0   393.0    NaN   \n",
       "2       880020.0           20      NaN        NaN      NaN     NaN    NaN   \n",
       "3       880022.0           70      NaN        NaN      NaN     NaN    NaN   \n",
       "4       880026.0          182      NaN        NaN      NaN     NaN    NaN   \n",
       "...          ...          ...      ...        ...      ...     ...    ...   \n",
       "1088    972412.0            5      NaN        NaN      NaN     NaN    NaN   \n",
       "1089    972460.0            7      NaN        NaN      NaN     NaN    NaN   \n",
       "1090    973120.0            2      NaN        NaN      NaN     NaN    NaN   \n",
       "1091    973286.0            1      NaN        NaN      NaN     NaN    NaN   \n",
       "1092           -         7456      0.0  98.484442      NaN     NaN   26.0   \n",
       "\n",
       "         %_out  \n",
       "0          NaN  \n",
       "1          NaN  \n",
       "2          NaN  \n",
       "3          NaN  \n",
       "4          NaN  \n",
       "...        ...  \n",
       "1088       NaN  \n",
       "1089       NaN  \n",
       "1090       NaN  \n",
       "1091       NaN  \n",
       "1092  2.494635  \n",
       "\n",
       "[1093 rows x 8 columns]"
      ]
     },
     "execution_count": 23,
     "metadata": {},
     "output_type": "execute_result"
    }
   ],
   "source": [
    "#Ahora vamos a ver si alguna de ellas coinciden en los 3 puntos:\n",
    "\n",
    "\n",
    "#Primero vamos a generar los df para cada punto considerando sólo el \"operator_id\" y su calificación\n",
    "\n",
    "punto_1 = df_70_ok[['operator_id', '%_mis']].reset_index()\n",
    "punto_2 = waiting_time_5[['operator_id', 't_wait']].reset_index()\n",
    "punto_3 = out_20[['operator_id', '%_out']].reset_index()\n",
    "\n",
    "#Ahora vamos a sacar un listado de los operadores:\n",
    "operadores = df_info.groupby('operator_id')['calls_count'].count().reset_index()\n",
    "\n",
    "#Ahora vamos a unir todas las tablas:\n",
    "\n",
    "ops_inef = operadores.merge(punto_1, on= 'operator_id', how = 'left')\n",
    "\n",
    "ops_inef2 = ops_inef.merge(punto_2, on= 'operator_id', how = 'left')\n",
    "\n",
    "ops_inef3 = ops_inef2.merge(punto_3, on= 'operator_id', how = 'left')\n",
    "\n",
    "ops_inef3"
   ]
  },
  {
   "cell_type": "code",
   "execution_count": 24,
   "id": "7c30e21c",
   "metadata": {
    "scrolled": true
   },
   "outputs": [
    {
     "data": {
      "text/html": [
       "<div>\n",
       "<style scoped>\n",
       "    .dataframe tbody tr th:only-of-type {\n",
       "        vertical-align: middle;\n",
       "    }\n",
       "\n",
       "    .dataframe tbody tr th {\n",
       "        vertical-align: top;\n",
       "    }\n",
       "\n",
       "    .dataframe thead th {\n",
       "        text-align: right;\n",
       "    }\n",
       "</style>\n",
       "<table border=\"1\" class=\"dataframe\">\n",
       "  <thead>\n",
       "    <tr style=\"text-align: right;\">\n",
       "      <th></th>\n",
       "      <th>operator_id</th>\n",
       "      <th>calls_count</th>\n",
       "      <th>index_x</th>\n",
       "      <th>%_mis</th>\n",
       "      <th>index_y</th>\n",
       "      <th>t_wait</th>\n",
       "      <th>index</th>\n",
       "      <th>%_out</th>\n",
       "    </tr>\n",
       "  </thead>\n",
       "  <tbody>\n",
       "    <tr>\n",
       "      <th>0</th>\n",
       "      <td>879896.0</td>\n",
       "      <td>117</td>\n",
       "      <td>NaN</td>\n",
       "      <td>0</td>\n",
       "      <td>NaN</td>\n",
       "      <td>0</td>\n",
       "      <td>NaN</td>\n",
       "      <td>0</td>\n",
       "    </tr>\n",
       "    <tr>\n",
       "      <th>1</th>\n",
       "      <td>879898.0</td>\n",
       "      <td>227</td>\n",
       "      <td>NaN</td>\n",
       "      <td>0</td>\n",
       "      <td>126.0</td>\n",
       "      <td>393.0</td>\n",
       "      <td>NaN</td>\n",
       "      <td>0</td>\n",
       "    </tr>\n",
       "    <tr>\n",
       "      <th>2</th>\n",
       "      <td>880020.0</td>\n",
       "      <td>20</td>\n",
       "      <td>NaN</td>\n",
       "      <td>0</td>\n",
       "      <td>NaN</td>\n",
       "      <td>0</td>\n",
       "      <td>NaN</td>\n",
       "      <td>0</td>\n",
       "    </tr>\n",
       "    <tr>\n",
       "      <th>3</th>\n",
       "      <td>880022.0</td>\n",
       "      <td>70</td>\n",
       "      <td>NaN</td>\n",
       "      <td>0</td>\n",
       "      <td>NaN</td>\n",
       "      <td>0</td>\n",
       "      <td>NaN</td>\n",
       "      <td>0</td>\n",
       "    </tr>\n",
       "    <tr>\n",
       "      <th>4</th>\n",
       "      <td>880026.0</td>\n",
       "      <td>182</td>\n",
       "      <td>NaN</td>\n",
       "      <td>0</td>\n",
       "      <td>NaN</td>\n",
       "      <td>0</td>\n",
       "      <td>NaN</td>\n",
       "      <td>0</td>\n",
       "    </tr>\n",
       "    <tr>\n",
       "      <th>...</th>\n",
       "      <td>...</td>\n",
       "      <td>...</td>\n",
       "      <td>...</td>\n",
       "      <td>...</td>\n",
       "      <td>...</td>\n",
       "      <td>...</td>\n",
       "      <td>...</td>\n",
       "      <td>...</td>\n",
       "    </tr>\n",
       "    <tr>\n",
       "      <th>1088</th>\n",
       "      <td>972412.0</td>\n",
       "      <td>5</td>\n",
       "      <td>NaN</td>\n",
       "      <td>0</td>\n",
       "      <td>NaN</td>\n",
       "      <td>0</td>\n",
       "      <td>NaN</td>\n",
       "      <td>0</td>\n",
       "    </tr>\n",
       "    <tr>\n",
       "      <th>1089</th>\n",
       "      <td>972460.0</td>\n",
       "      <td>7</td>\n",
       "      <td>NaN</td>\n",
       "      <td>0</td>\n",
       "      <td>NaN</td>\n",
       "      <td>0</td>\n",
       "      <td>NaN</td>\n",
       "      <td>0</td>\n",
       "    </tr>\n",
       "    <tr>\n",
       "      <th>1090</th>\n",
       "      <td>973120.0</td>\n",
       "      <td>2</td>\n",
       "      <td>NaN</td>\n",
       "      <td>0</td>\n",
       "      <td>NaN</td>\n",
       "      <td>0</td>\n",
       "      <td>NaN</td>\n",
       "      <td>0</td>\n",
       "    </tr>\n",
       "    <tr>\n",
       "      <th>1091</th>\n",
       "      <td>973286.0</td>\n",
       "      <td>1</td>\n",
       "      <td>NaN</td>\n",
       "      <td>0</td>\n",
       "      <td>NaN</td>\n",
       "      <td>0</td>\n",
       "      <td>NaN</td>\n",
       "      <td>0</td>\n",
       "    </tr>\n",
       "    <tr>\n",
       "      <th>1092</th>\n",
       "      <td>-</td>\n",
       "      <td>7456</td>\n",
       "      <td>0.0</td>\n",
       "      <td>98.484442</td>\n",
       "      <td>NaN</td>\n",
       "      <td>0</td>\n",
       "      <td>26.0</td>\n",
       "      <td>2.494635</td>\n",
       "    </tr>\n",
       "  </tbody>\n",
       "</table>\n",
       "<p>1093 rows × 8 columns</p>\n",
       "</div>"
      ],
      "text/plain": [
       "     operator_id  calls_count  index_x      %_mis  index_y t_wait  index  \\\n",
       "0       879896.0          117      NaN          0      NaN      0    NaN   \n",
       "1       879898.0          227      NaN          0    126.0  393.0    NaN   \n",
       "2       880020.0           20      NaN          0      NaN      0    NaN   \n",
       "3       880022.0           70      NaN          0      NaN      0    NaN   \n",
       "4       880026.0          182      NaN          0      NaN      0    NaN   \n",
       "...          ...          ...      ...        ...      ...    ...    ...   \n",
       "1088    972412.0            5      NaN          0      NaN      0    NaN   \n",
       "1089    972460.0            7      NaN          0      NaN      0    NaN   \n",
       "1090    973120.0            2      NaN          0      NaN      0    NaN   \n",
       "1091    973286.0            1      NaN          0      NaN      0    NaN   \n",
       "1092           -         7456      0.0  98.484442      NaN      0   26.0   \n",
       "\n",
       "         %_out  \n",
       "0            0  \n",
       "1            0  \n",
       "2            0  \n",
       "3            0  \n",
       "4            0  \n",
       "...        ...  \n",
       "1088         0  \n",
       "1089         0  \n",
       "1090         0  \n",
       "1091         0  \n",
       "1092  2.494635  \n",
       "\n",
       "[1093 rows x 8 columns]"
      ]
     },
     "execution_count": 24,
     "metadata": {},
     "output_type": "execute_result"
    }
   ],
   "source": [
    "#Vamos a sustituir todos los NaN por 0:\n",
    "\n",
    "ops_inef3['%_mis'].fillna('0', inplace=True)\n",
    "ops_inef3['t_wait'].fillna('0', inplace=True)\n",
    "ops_inef3['%_out'].fillna('0', inplace=True)\n",
    "\n",
    "ops_inef3"
   ]
  },
  {
   "cell_type": "code",
   "execution_count": 25,
   "id": "86eb5985",
   "metadata": {
    "scrolled": false
   },
   "outputs": [
    {
     "data": {
      "text/html": [
       "<div>\n",
       "<style scoped>\n",
       "    .dataframe tbody tr th:only-of-type {\n",
       "        vertical-align: middle;\n",
       "    }\n",
       "\n",
       "    .dataframe tbody tr th {\n",
       "        vertical-align: top;\n",
       "    }\n",
       "\n",
       "    .dataframe thead th {\n",
       "        text-align: right;\n",
       "    }\n",
       "</style>\n",
       "<table border=\"1\" class=\"dataframe\">\n",
       "  <thead>\n",
       "    <tr style=\"text-align: right;\">\n",
       "      <th></th>\n",
       "      <th>operator_id</th>\n",
       "      <th>calls_count</th>\n",
       "      <th>index_x</th>\n",
       "      <th>%_mis</th>\n",
       "      <th>index_y</th>\n",
       "      <th>t_wait</th>\n",
       "      <th>index</th>\n",
       "      <th>%_out</th>\n",
       "      <th>filtro</th>\n",
       "    </tr>\n",
       "  </thead>\n",
       "  <tbody>\n",
       "    <tr>\n",
       "      <th>0</th>\n",
       "      <td>879896.0</td>\n",
       "      <td>117</td>\n",
       "      <td>NaN</td>\n",
       "      <td>0.000000</td>\n",
       "      <td>NaN</td>\n",
       "      <td>0.0</td>\n",
       "      <td>NaN</td>\n",
       "      <td>0.000000</td>\n",
       "      <td>0.000000</td>\n",
       "    </tr>\n",
       "    <tr>\n",
       "      <th>1</th>\n",
       "      <td>879898.0</td>\n",
       "      <td>227</td>\n",
       "      <td>NaN</td>\n",
       "      <td>0.000000</td>\n",
       "      <td>126.0</td>\n",
       "      <td>393.0</td>\n",
       "      <td>NaN</td>\n",
       "      <td>0.000000</td>\n",
       "      <td>393.000000</td>\n",
       "    </tr>\n",
       "    <tr>\n",
       "      <th>2</th>\n",
       "      <td>880020.0</td>\n",
       "      <td>20</td>\n",
       "      <td>NaN</td>\n",
       "      <td>0.000000</td>\n",
       "      <td>NaN</td>\n",
       "      <td>0.0</td>\n",
       "      <td>NaN</td>\n",
       "      <td>0.000000</td>\n",
       "      <td>0.000000</td>\n",
       "    </tr>\n",
       "    <tr>\n",
       "      <th>3</th>\n",
       "      <td>880022.0</td>\n",
       "      <td>70</td>\n",
       "      <td>NaN</td>\n",
       "      <td>0.000000</td>\n",
       "      <td>NaN</td>\n",
       "      <td>0.0</td>\n",
       "      <td>NaN</td>\n",
       "      <td>0.000000</td>\n",
       "      <td>0.000000</td>\n",
       "    </tr>\n",
       "    <tr>\n",
       "      <th>4</th>\n",
       "      <td>880026.0</td>\n",
       "      <td>182</td>\n",
       "      <td>NaN</td>\n",
       "      <td>0.000000</td>\n",
       "      <td>NaN</td>\n",
       "      <td>0.0</td>\n",
       "      <td>NaN</td>\n",
       "      <td>0.000000</td>\n",
       "      <td>0.000000</td>\n",
       "    </tr>\n",
       "    <tr>\n",
       "      <th>...</th>\n",
       "      <td>...</td>\n",
       "      <td>...</td>\n",
       "      <td>...</td>\n",
       "      <td>...</td>\n",
       "      <td>...</td>\n",
       "      <td>...</td>\n",
       "      <td>...</td>\n",
       "      <td>...</td>\n",
       "      <td>...</td>\n",
       "    </tr>\n",
       "    <tr>\n",
       "      <th>1088</th>\n",
       "      <td>972412.0</td>\n",
       "      <td>5</td>\n",
       "      <td>NaN</td>\n",
       "      <td>0.000000</td>\n",
       "      <td>NaN</td>\n",
       "      <td>0.0</td>\n",
       "      <td>NaN</td>\n",
       "      <td>0.000000</td>\n",
       "      <td>0.000000</td>\n",
       "    </tr>\n",
       "    <tr>\n",
       "      <th>1089</th>\n",
       "      <td>972460.0</td>\n",
       "      <td>7</td>\n",
       "      <td>NaN</td>\n",
       "      <td>0.000000</td>\n",
       "      <td>NaN</td>\n",
       "      <td>0.0</td>\n",
       "      <td>NaN</td>\n",
       "      <td>0.000000</td>\n",
       "      <td>0.000000</td>\n",
       "    </tr>\n",
       "    <tr>\n",
       "      <th>1090</th>\n",
       "      <td>973120.0</td>\n",
       "      <td>2</td>\n",
       "      <td>NaN</td>\n",
       "      <td>0.000000</td>\n",
       "      <td>NaN</td>\n",
       "      <td>0.0</td>\n",
       "      <td>NaN</td>\n",
       "      <td>0.000000</td>\n",
       "      <td>0.000000</td>\n",
       "    </tr>\n",
       "    <tr>\n",
       "      <th>1091</th>\n",
       "      <td>973286.0</td>\n",
       "      <td>1</td>\n",
       "      <td>NaN</td>\n",
       "      <td>0.000000</td>\n",
       "      <td>NaN</td>\n",
       "      <td>0.0</td>\n",
       "      <td>NaN</td>\n",
       "      <td>0.000000</td>\n",
       "      <td>0.000000</td>\n",
       "    </tr>\n",
       "    <tr>\n",
       "      <th>1092</th>\n",
       "      <td>-</td>\n",
       "      <td>7456</td>\n",
       "      <td>0.0</td>\n",
       "      <td>98.484442</td>\n",
       "      <td>NaN</td>\n",
       "      <td>0.0</td>\n",
       "      <td>26.0</td>\n",
       "      <td>2.494635</td>\n",
       "      <td>100.979077</td>\n",
       "    </tr>\n",
       "  </tbody>\n",
       "</table>\n",
       "<p>1093 rows × 9 columns</p>\n",
       "</div>"
      ],
      "text/plain": [
       "     operator_id  calls_count  index_x      %_mis  index_y  t_wait  index  \\\n",
       "0       879896.0          117      NaN   0.000000      NaN     0.0    NaN   \n",
       "1       879898.0          227      NaN   0.000000    126.0   393.0    NaN   \n",
       "2       880020.0           20      NaN   0.000000      NaN     0.0    NaN   \n",
       "3       880022.0           70      NaN   0.000000      NaN     0.0    NaN   \n",
       "4       880026.0          182      NaN   0.000000      NaN     0.0    NaN   \n",
       "...          ...          ...      ...        ...      ...     ...    ...   \n",
       "1088    972412.0            5      NaN   0.000000      NaN     0.0    NaN   \n",
       "1089    972460.0            7      NaN   0.000000      NaN     0.0    NaN   \n",
       "1090    973120.0            2      NaN   0.000000      NaN     0.0    NaN   \n",
       "1091    973286.0            1      NaN   0.000000      NaN     0.0    NaN   \n",
       "1092           -         7456      0.0  98.484442      NaN     0.0   26.0   \n",
       "\n",
       "         %_out      filtro  \n",
       "0     0.000000    0.000000  \n",
       "1     0.000000  393.000000  \n",
       "2     0.000000    0.000000  \n",
       "3     0.000000    0.000000  \n",
       "4     0.000000    0.000000  \n",
       "...        ...         ...  \n",
       "1088  0.000000    0.000000  \n",
       "1089  0.000000    0.000000  \n",
       "1090  0.000000    0.000000  \n",
       "1091  0.000000    0.000000  \n",
       "1092  2.494635  100.979077  \n",
       "\n",
       "[1093 rows x 9 columns]"
      ]
     },
     "execution_count": 25,
     "metadata": {},
     "output_type": "execute_result"
    }
   ],
   "source": [
    "#Vamos a sumar las columnas\n",
    "\n",
    "#Primero vamos a cambiar el tipo de dato a float:\n",
    "\n",
    "ops_inef3['%_mis'] = ops_inef3['%_mis'].astype(float)\n",
    "ops_inef3['t_wait'] = ops_inef3['t_wait'].astype(float)\n",
    "ops_inef3['%_out'] = ops_inef3['%_out'].astype(float)\n",
    "\n",
    "ops_inef3['filtro'] = ops_inef3['%_mis']+ops_inef3['t_wait']+ops_inef3['%_out']\n",
    "\n",
    "ops_inef3"
   ]
  },
  {
   "cell_type": "code",
   "execution_count": 26,
   "id": "993fc1af",
   "metadata": {
    "scrolled": true
   },
   "outputs": [
    {
     "data": {
      "text/html": [
       "<div>\n",
       "<style scoped>\n",
       "    .dataframe tbody tr th:only-of-type {\n",
       "        vertical-align: middle;\n",
       "    }\n",
       "\n",
       "    .dataframe tbody tr th {\n",
       "        vertical-align: top;\n",
       "    }\n",
       "\n",
       "    .dataframe thead th {\n",
       "        text-align: right;\n",
       "    }\n",
       "</style>\n",
       "<table border=\"1\" class=\"dataframe\">\n",
       "  <thead>\n",
       "    <tr style=\"text-align: right;\">\n",
       "      <th></th>\n",
       "      <th>level_0</th>\n",
       "      <th>operator_id</th>\n",
       "      <th>calls_count</th>\n",
       "      <th>index_x</th>\n",
       "      <th>%_mis</th>\n",
       "      <th>index_y</th>\n",
       "      <th>t_wait</th>\n",
       "      <th>index</th>\n",
       "      <th>%_out</th>\n",
       "      <th>filtro</th>\n",
       "    </tr>\n",
       "  </thead>\n",
       "  <tbody>\n",
       "    <tr>\n",
       "      <th>0</th>\n",
       "      <td>29</td>\n",
       "      <td>885890.0</td>\n",
       "      <td>253</td>\n",
       "      <td>NaN</td>\n",
       "      <td>0.0</td>\n",
       "      <td>0.0</td>\n",
       "      <td>4525.0</td>\n",
       "      <td>NaN</td>\n",
       "      <td>0.000000</td>\n",
       "      <td>4525.000000</td>\n",
       "    </tr>\n",
       "    <tr>\n",
       "      <th>1</th>\n",
       "      <td>583</td>\n",
       "      <td>929428.0</td>\n",
       "      <td>65</td>\n",
       "      <td>NaN</td>\n",
       "      <td>0.0</td>\n",
       "      <td>1.0</td>\n",
       "      <td>3030.0</td>\n",
       "      <td>NaN</td>\n",
       "      <td>0.000000</td>\n",
       "      <td>3030.000000</td>\n",
       "    </tr>\n",
       "    <tr>\n",
       "      <th>2</th>\n",
       "      <td>551</td>\n",
       "      <td>925922.0</td>\n",
       "      <td>73</td>\n",
       "      <td>NaN</td>\n",
       "      <td>0.0</td>\n",
       "      <td>2.0</td>\n",
       "      <td>3007.0</td>\n",
       "      <td>NaN</td>\n",
       "      <td>0.000000</td>\n",
       "      <td>3007.000000</td>\n",
       "    </tr>\n",
       "    <tr>\n",
       "      <th>3</th>\n",
       "      <td>317</td>\n",
       "      <td>908640.0</td>\n",
       "      <td>43</td>\n",
       "      <td>NaN</td>\n",
       "      <td>0.0</td>\n",
       "      <td>3.0</td>\n",
       "      <td>2885.0</td>\n",
       "      <td>NaN</td>\n",
       "      <td>0.000000</td>\n",
       "      <td>2885.000000</td>\n",
       "    </tr>\n",
       "    <tr>\n",
       "      <th>4</th>\n",
       "      <td>448</td>\n",
       "      <td>919364.0</td>\n",
       "      <td>41</td>\n",
       "      <td>NaN</td>\n",
       "      <td>0.0</td>\n",
       "      <td>4.0</td>\n",
       "      <td>2784.0</td>\n",
       "      <td>NaN</td>\n",
       "      <td>0.000000</td>\n",
       "      <td>2784.000000</td>\n",
       "    </tr>\n",
       "    <tr>\n",
       "      <th>...</th>\n",
       "      <td>...</td>\n",
       "      <td>...</td>\n",
       "      <td>...</td>\n",
       "      <td>...</td>\n",
       "      <td>...</td>\n",
       "      <td>...</td>\n",
       "      <td>...</td>\n",
       "      <td>...</td>\n",
       "      <td>...</td>\n",
       "      <td>...</td>\n",
       "    </tr>\n",
       "    <tr>\n",
       "      <th>181</th>\n",
       "      <td>323</td>\n",
       "      <td>909134.0</td>\n",
       "      <td>70</td>\n",
       "      <td>NaN</td>\n",
       "      <td>0.0</td>\n",
       "      <td>NaN</td>\n",
       "      <td>0.0</td>\n",
       "      <td>21.0</td>\n",
       "      <td>7.142857</td>\n",
       "      <td>7.142857</td>\n",
       "    </tr>\n",
       "    <tr>\n",
       "      <th>182</th>\n",
       "      <td>379</td>\n",
       "      <td>914256.0</td>\n",
       "      <td>16</td>\n",
       "      <td>NaN</td>\n",
       "      <td>0.0</td>\n",
       "      <td>NaN</td>\n",
       "      <td>0.0</td>\n",
       "      <td>22.0</td>\n",
       "      <td>6.250000</td>\n",
       "      <td>6.250000</td>\n",
       "    </tr>\n",
       "    <tr>\n",
       "      <th>183</th>\n",
       "      <td>385</td>\n",
       "      <td>914440.0</td>\n",
       "      <td>20</td>\n",
       "      <td>NaN</td>\n",
       "      <td>0.0</td>\n",
       "      <td>NaN</td>\n",
       "      <td>0.0</td>\n",
       "      <td>24.0</td>\n",
       "      <td>5.000000</td>\n",
       "      <td>5.000000</td>\n",
       "    </tr>\n",
       "    <tr>\n",
       "      <th>184</th>\n",
       "      <td>263</td>\n",
       "      <td>905862.0</td>\n",
       "      <td>38</td>\n",
       "      <td>NaN</td>\n",
       "      <td>0.0</td>\n",
       "      <td>NaN</td>\n",
       "      <td>0.0</td>\n",
       "      <td>25.0</td>\n",
       "      <td>2.631579</td>\n",
       "      <td>2.631579</td>\n",
       "    </tr>\n",
       "    <tr>\n",
       "      <th>185</th>\n",
       "      <td>722</td>\n",
       "      <td>937956.0</td>\n",
       "      <td>60</td>\n",
       "      <td>NaN</td>\n",
       "      <td>0.0</td>\n",
       "      <td>NaN</td>\n",
       "      <td>0.0</td>\n",
       "      <td>27.0</td>\n",
       "      <td>1.666667</td>\n",
       "      <td>1.666667</td>\n",
       "    </tr>\n",
       "  </tbody>\n",
       "</table>\n",
       "<p>186 rows × 10 columns</p>\n",
       "</div>"
      ],
      "text/plain": [
       "     level_0 operator_id  calls_count  index_x  %_mis  index_y  t_wait  index  \\\n",
       "0         29    885890.0          253      NaN    0.0      0.0  4525.0    NaN   \n",
       "1        583    929428.0           65      NaN    0.0      1.0  3030.0    NaN   \n",
       "2        551    925922.0           73      NaN    0.0      2.0  3007.0    NaN   \n",
       "3        317    908640.0           43      NaN    0.0      3.0  2885.0    NaN   \n",
       "4        448    919364.0           41      NaN    0.0      4.0  2784.0    NaN   \n",
       "..       ...         ...          ...      ...    ...      ...     ...    ...   \n",
       "181      323    909134.0           70      NaN    0.0      NaN     0.0   21.0   \n",
       "182      379    914256.0           16      NaN    0.0      NaN     0.0   22.0   \n",
       "183      385    914440.0           20      NaN    0.0      NaN     0.0   24.0   \n",
       "184      263    905862.0           38      NaN    0.0      NaN     0.0   25.0   \n",
       "185      722    937956.0           60      NaN    0.0      NaN     0.0   27.0   \n",
       "\n",
       "        %_out       filtro  \n",
       "0    0.000000  4525.000000  \n",
       "1    0.000000  3030.000000  \n",
       "2    0.000000  3007.000000  \n",
       "3    0.000000  2885.000000  \n",
       "4    0.000000  2784.000000  \n",
       "..        ...          ...  \n",
       "181  7.142857     7.142857  \n",
       "182  6.250000     6.250000  \n",
       "183  5.000000     5.000000  \n",
       "184  2.631579     2.631579  \n",
       "185  1.666667     1.666667  \n",
       "\n",
       "[186 rows x 10 columns]"
      ]
     },
     "execution_count": 26,
     "metadata": {},
     "output_type": "execute_result"
    }
   ],
   "source": [
    "#Ahora vamos a filtrar todos los operator_id que sean mayor a 0:\n",
    "\n",
    "ops_ineficaces = ops_inef3[ops_inef3['filtro']>0].sort_values(by = 'filtro', ascending = False).reset_index()\n",
    "\n",
    "ops_ineficaces"
   ]
  },
  {
   "cell_type": "markdown",
   "id": "a766bd97",
   "metadata": {},
   "source": [
    "Estas 186 personas son las que tienen al menos 1 de los 3 criterios para considerarse ineficaces."
   ]
  },
  {
   "cell_type": "markdown",
   "id": "3166e384",
   "metadata": {},
   "source": [
    "## Probar las hipótesis estadísticas"
   ]
  },
  {
   "cell_type": "markdown",
   "id": "f6512df0",
   "metadata": {},
   "source": [
    "En esta parte vamos a considerar que los criterios para determinar que un operador es ineficaz, serán las hipótesis que vamos a probar:"
   ]
  },
  {
   "cell_type": "code",
   "execution_count": 27,
   "id": "d8bd2c7f",
   "metadata": {
    "scrolled": true
   },
   "outputs": [],
   "source": [
    "# Hipótesis 1: Un operador es ineficaz si tiene una gran cantidad de llamadas entrantes perdidas (internas y externas)\n",
    "\n",
    "#Vamos a ocupar el df que habíamos calculado, para las llamadas perdidas, pero primero vamos a quitar todos los registros \n",
    "#que no tengan llamas recibidas:\n",
    "\n",
    "df_mis_cal_ok = df_mis_cal[df_mis_cal['Received'] != 'NaN']\n"
   ]
  },
  {
   "cell_type": "code",
   "execution_count": 28,
   "id": "b776b17c",
   "metadata": {},
   "outputs": [
    {
     "name": "stdout",
     "output_type": "stream",
     "text": [
      "Z-statistic: -15.265421398467698, P-value: 1.2998538956756995e-52\n"
     ]
    }
   ],
   "source": [
    "# Vamos a definir el umbral en 70%\n",
    "threshold = df_mis_cal_ok['%_mis'].quantile(0.70)\n",
    "ops_inef_cr1 = df_mis_cal_ok[df_mis_cal_ok['%_mis'] >= threshold]\n",
    "ops_efic_cr1 = df_mis_cal_ok[df_mis_cal_ok['%_mis'] < threshold]\n",
    "\n",
    "alpha = 0.05\n",
    "\n",
    "# Realizar el test de proporciones\n",
    "count = [len(ops_inef_cr1), len(ops_efic_cr1)]\n",
    "nobs = [len(df_mis_cal_ok), len(df_mis_cal_ok)]\n",
    "stat, p_value = proportions_ztest(count, nobs)\n",
    "\n",
    "print(f'Z-statistic: {stat}, P-value: {p_value}')"
   ]
  },
  {
   "cell_type": "markdown",
   "id": "28015c30",
   "metadata": {},
   "source": [
    "Dado que P-value es mucho menor que el valor de alpha, podremos rechazar la hipótesis nula ya que hay una diferencia significativa entre las proporciones que estamos comparando. Es decir podemos afirmar que los operadores con una gran cantidad de llamadas perdidas, son ineficaces.\n"
   ]
  },
  {
   "cell_type": "code",
   "execution_count": 29,
   "id": "054536c1",
   "metadata": {
    "scrolled": true
   },
   "outputs": [
    {
     "data": {
      "text/html": [
       "<div>\n",
       "<style scoped>\n",
       "    .dataframe tbody tr th:only-of-type {\n",
       "        vertical-align: middle;\n",
       "    }\n",
       "\n",
       "    .dataframe tbody tr th {\n",
       "        vertical-align: top;\n",
       "    }\n",
       "\n",
       "    .dataframe thead th {\n",
       "        text-align: right;\n",
       "    }\n",
       "</style>\n",
       "<table border=\"1\" class=\"dataframe\">\n",
       "  <thead>\n",
       "    <tr style=\"text-align: right;\">\n",
       "      <th></th>\n",
       "      <th>operator_id</th>\n",
       "      <th>t_wait</th>\n",
       "    </tr>\n",
       "  </thead>\n",
       "  <tbody>\n",
       "    <tr>\n",
       "      <th>0</th>\n",
       "      <td>885890.0</td>\n",
       "      <td>4525.0</td>\n",
       "    </tr>\n",
       "    <tr>\n",
       "      <th>1</th>\n",
       "      <td>929428.0</td>\n",
       "      <td>3030.0</td>\n",
       "    </tr>\n",
       "    <tr>\n",
       "      <th>2</th>\n",
       "      <td>925922.0</td>\n",
       "      <td>3007.0</td>\n",
       "    </tr>\n",
       "    <tr>\n",
       "      <th>3</th>\n",
       "      <td>908640.0</td>\n",
       "      <td>2885.0</td>\n",
       "    </tr>\n",
       "    <tr>\n",
       "      <th>4</th>\n",
       "      <td>919364.0</td>\n",
       "      <td>2784.0</td>\n",
       "    </tr>\n",
       "  </tbody>\n",
       "</table>\n",
       "</div>"
      ],
      "text/plain": [
       "  operator_id  t_wait\n",
       "0    885890.0  4525.0\n",
       "1    929428.0  3030.0\n",
       "2    925922.0  3007.0\n",
       "3    908640.0  2885.0\n",
       "4    919364.0  2784.0"
      ]
     },
     "execution_count": 29,
     "metadata": {},
     "output_type": "execute_result"
    }
   ],
   "source": [
    "# Hipótesis 2: Un operador ineficaz, tiene un tiempo de espera prolongado para las llamadas entrantes.\n",
    "\n",
    "#Vamos a usar el df que habíamos calculado para ver el tiempo de espera:\n",
    "\n",
    "waiting_time.head()\n"
   ]
  },
  {
   "cell_type": "code",
   "execution_count": 30,
   "id": "d9fa6e4e",
   "metadata": {
    "scrolled": true
   },
   "outputs": [
    {
     "name": "stdout",
     "output_type": "stream",
     "text": [
      "T-statistic: 22.46510469492345, P-value: 3.617151414641913e-92\n"
     ]
    }
   ],
   "source": [
    "# Vamos a definir el umbral en 30%\n",
    "threshold = waiting_time['t_wait'].quantile(0.70)\n",
    "ops_inef_cr2 = waiting_time[waiting_time['t_wait'] >= threshold]\n",
    "ops_efic_cr2 = waiting_time[waiting_time['t_wait'] < threshold]\n",
    "\n",
    "alpha = 0.05\n",
    "\n",
    "# Tiempos de espera\n",
    "inef_times = ops_inef_cr2['t_wait']\n",
    "efic_times = ops_efic_cr2['t_wait']\n",
    "\n",
    "# Realizar T-test\n",
    "t_stat, p_value = ttest_ind(inef_times, efic_times)\n",
    "\n",
    "print(f'T-statistic: {t_stat}, P-value: {p_value}')\n"
   ]
  },
  {
   "cell_type": "markdown",
   "id": "5bf33116",
   "metadata": {},
   "source": [
    "Dado que P-value es mucho menor que el valor de alpha, podremos rechazar la hipótesis nula ya que hay una diferencia significativa entre loa segmentos que estamos comparando. Es decir podemos afirmar que los operadores con un tiempo de espera entre cada llamada son ineficaces."
   ]
  },
  {
   "cell_type": "code",
   "execution_count": 31,
   "id": "8b04fe52",
   "metadata": {
    "scrolled": true
   },
   "outputs": [
    {
     "data": {
      "text/html": [
       "<div>\n",
       "<style scoped>\n",
       "    .dataframe tbody tr th:only-of-type {\n",
       "        vertical-align: middle;\n",
       "    }\n",
       "\n",
       "    .dataframe tbody tr th {\n",
       "        vertical-align: top;\n",
       "    }\n",
       "\n",
       "    .dataframe thead th {\n",
       "        text-align: right;\n",
       "    }\n",
       "</style>\n",
       "<table border=\"1\" class=\"dataframe\">\n",
       "  <thead>\n",
       "    <tr style=\"text-align: right;\">\n",
       "      <th>direction</th>\n",
       "      <th>in</th>\n",
       "      <th>out</th>\n",
       "      <th>Total</th>\n",
       "      <th>%_out</th>\n",
       "    </tr>\n",
       "    <tr>\n",
       "      <th>operator_id</th>\n",
       "      <th></th>\n",
       "      <th></th>\n",
       "      <th></th>\n",
       "      <th></th>\n",
       "    </tr>\n",
       "  </thead>\n",
       "  <tbody>\n",
       "    <tr>\n",
       "      <th>879896.0</th>\n",
       "      <td>21.0</td>\n",
       "      <td>96.0</td>\n",
       "      <td>117</td>\n",
       "      <td>82.051282</td>\n",
       "    </tr>\n",
       "    <tr>\n",
       "      <th>879898.0</th>\n",
       "      <td>57.0</td>\n",
       "      <td>170.0</td>\n",
       "      <td>227</td>\n",
       "      <td>74.889868</td>\n",
       "    </tr>\n",
       "    <tr>\n",
       "      <th>880020.0</th>\n",
       "      <td>7.0</td>\n",
       "      <td>13.0</td>\n",
       "      <td>20</td>\n",
       "      <td>65.000000</td>\n",
       "    </tr>\n",
       "    <tr>\n",
       "      <th>880022.0</th>\n",
       "      <td>8.0</td>\n",
       "      <td>62.0</td>\n",
       "      <td>70</td>\n",
       "      <td>88.571429</td>\n",
       "    </tr>\n",
       "    <tr>\n",
       "      <th>880026.0</th>\n",
       "      <td>18.0</td>\n",
       "      <td>164.0</td>\n",
       "      <td>182</td>\n",
       "      <td>90.109890</td>\n",
       "    </tr>\n",
       "  </tbody>\n",
       "</table>\n",
       "</div>"
      ],
      "text/plain": [
       "direction      in    out  Total      %_out\n",
       "operator_id                               \n",
       "879896.0     21.0   96.0    117  82.051282\n",
       "879898.0     57.0  170.0    227  74.889868\n",
       "880020.0      7.0   13.0     20  65.000000\n",
       "880022.0      8.0   62.0     70  88.571429\n",
       "880026.0     18.0  164.0    182  90.109890"
      ]
     },
     "execution_count": 31,
     "metadata": {},
     "output_type": "execute_result"
    }
   ],
   "source": [
    "# Hipótesis 3: Un operador ineficaz, si tiene un número reducido de llamadas salientes,\n",
    "\n",
    "#Vamos a usar el df que habíamos calculado para ver las llamadas salientes\n",
    "\n",
    "pivot_out.head()"
   ]
  },
  {
   "cell_type": "code",
   "execution_count": 32,
   "id": "b6c6a797",
   "metadata": {},
   "outputs": [
    {
     "name": "stdout",
     "output_type": "stream",
     "text": [
      "Z-statistic: -13.193960212179892, P-value: 9.5057411369409e-40\n"
     ]
    }
   ],
   "source": [
    "# Vamos a definir el umbral en 70%\n",
    "threshold = pivot_out['%_out'].quantile(0.70)\n",
    "ops_inef_cr3 = pivot_out[pivot_out['%_out'] >= threshold]\n",
    "ops_efic_cr3 = pivot_out[pivot_out['%_out'] < threshold]\n",
    "\n",
    "alpha = 0.05\n",
    "\n",
    "# Realizar el test de proporciones\n",
    "count = [len(ops_inef_cr3), len(ops_efic_cr3)]\n",
    "nobs = [len(pivot_out), len(pivot_out)]\n",
    "stat, p_value = proportions_ztest(count, nobs)\n",
    "\n",
    "print(f'Z-statistic: {stat}, P-value: {p_value}')"
   ]
  },
  {
   "cell_type": "markdown",
   "id": "1837b773",
   "metadata": {},
   "source": [
    "Dado que P-value es mucho menor que el valor de alpha, podremos rechazar la hipótesis nula ya que hay una diferencia significativa entre las proporciones que estamos comparando. Es decir podemos afirmar que los operadores con un número reducido de llamadas salientes, son ineficaces."
   ]
  }
 ],
 "metadata": {
  "ExecuteTimeLog": [
   {
    "duration": 4,
    "start_time": "2024-08-16T03:55:36.713Z"
   },
   {
    "duration": 4997,
    "start_time": "2024-08-16T03:57:02.993Z"
   },
   {
    "duration": 110,
    "start_time": "2024-08-16T04:01:04.898Z"
   },
   {
    "duration": 65,
    "start_time": "2024-08-16T04:03:04.584Z"
   },
   {
    "duration": 40,
    "start_time": "2024-08-16T04:03:16.552Z"
   },
   {
    "duration": 22,
    "start_time": "2024-08-16T04:19:31.822Z"
   },
   {
    "duration": 394,
    "start_time": "2024-08-16T04:22:35.609Z"
   },
   {
    "duration": 31,
    "start_time": "2024-08-16T04:22:42.499Z"
   },
   {
    "duration": 30,
    "start_time": "2024-08-16T04:23:11.717Z"
   },
   {
    "duration": 32,
    "start_time": "2024-08-16T04:23:21.555Z"
   },
   {
    "duration": 6,
    "start_time": "2024-08-16T04:24:15.468Z"
   },
   {
    "duration": 114,
    "start_time": "2024-08-16T04:24:26.829Z"
   },
   {
    "duration": 30,
    "start_time": "2024-08-16T04:24:50.082Z"
   },
   {
    "duration": 27,
    "start_time": "2024-08-16T04:24:56.346Z"
   },
   {
    "duration": 28,
    "start_time": "2024-08-16T04:25:10.508Z"
   },
   {
    "duration": 28,
    "start_time": "2024-08-16T04:25:16.763Z"
   },
   {
    "duration": 873,
    "start_time": "2024-08-16T04:28:58.139Z"
   },
   {
    "duration": 75,
    "start_time": "2024-08-16T04:29:32.677Z"
   },
   {
    "duration": 39,
    "start_time": "2024-08-16T04:29:35.207Z"
   },
   {
    "duration": 14,
    "start_time": "2024-08-16T04:29:41.966Z"
   },
   {
    "duration": 16,
    "start_time": "2024-08-16T04:29:50.792Z"
   },
   {
    "duration": 22,
    "start_time": "2024-08-16T04:29:56.532Z"
   },
   {
    "duration": 598,
    "start_time": "2024-08-16T04:32:01.692Z"
   },
   {
    "duration": 26,
    "start_time": "2024-08-16T04:32:54.846Z"
   },
   {
    "duration": 904,
    "start_time": "2024-08-16T04:33:09.872Z"
   },
   {
    "duration": 386,
    "start_time": "2024-08-16T04:35:19.260Z"
   },
   {
    "duration": 430,
    "start_time": "2024-08-16T04:35:26.808Z"
   },
   {
    "duration": 414,
    "start_time": "2024-08-16T04:35:34.618Z"
   },
   {
    "duration": 30,
    "start_time": "2024-08-16T04:56:24.003Z"
   },
   {
    "duration": 27,
    "start_time": "2024-08-16T04:56:59.478Z"
   },
   {
    "duration": 25,
    "start_time": "2024-08-16T04:57:20.899Z"
   },
   {
    "duration": 22,
    "start_time": "2024-08-16T04:57:27.750Z"
   },
   {
    "duration": 29,
    "start_time": "2024-08-16T04:59:22.730Z"
   },
   {
    "duration": 40,
    "start_time": "2024-08-16T04:59:32.019Z"
   },
   {
    "duration": 389,
    "start_time": "2024-08-16T05:00:42.932Z"
   },
   {
    "duration": 65,
    "start_time": "2024-08-16T05:02:16.069Z"
   },
   {
    "duration": 16,
    "start_time": "2024-08-16T05:02:30.817Z"
   },
   {
    "duration": 27,
    "start_time": "2024-08-16T05:02:37.977Z"
   },
   {
    "duration": 39,
    "start_time": "2024-08-16T05:02:39.922Z"
   },
   {
    "duration": 50,
    "start_time": "2024-08-16T05:06:07.251Z"
   },
   {
    "duration": 305,
    "start_time": "2024-08-18T03:51:10.895Z"
   },
   {
    "duration": 4920,
    "start_time": "2024-08-18T03:51:17.228Z"
   },
   {
    "duration": 108,
    "start_time": "2024-08-18T03:51:22.152Z"
   },
   {
    "duration": 39,
    "start_time": "2024-08-18T03:51:22.263Z"
   },
   {
    "duration": 913,
    "start_time": "2024-08-18T03:51:22.305Z"
   },
   {
    "duration": 33,
    "start_time": "2024-08-18T03:51:23.222Z"
   },
   {
    "duration": 76,
    "start_time": "2024-08-18T03:51:23.258Z"
   },
   {
    "duration": 18,
    "start_time": "2024-08-18T03:56:35.322Z"
   },
   {
    "duration": 23,
    "start_time": "2024-08-18T03:56:57.531Z"
   },
   {
    "duration": 22,
    "start_time": "2024-08-18T03:57:01.766Z"
   },
   {
    "duration": 22,
    "start_time": "2024-08-18T03:57:05.013Z"
   },
   {
    "duration": 7,
    "start_time": "2024-08-18T03:57:10.661Z"
   },
   {
    "duration": 13,
    "start_time": "2024-08-18T03:57:54.550Z"
   },
   {
    "duration": 24,
    "start_time": "2024-08-18T03:58:05.655Z"
   },
   {
    "duration": 17,
    "start_time": "2024-08-18T03:58:11.753Z"
   },
   {
    "duration": 12,
    "start_time": "2024-08-18T03:59:12.450Z"
   },
   {
    "duration": 11,
    "start_time": "2024-08-18T04:00:25.336Z"
   },
   {
    "duration": 1249,
    "start_time": "2024-08-18T04:03:30.200Z"
   },
   {
    "duration": 19,
    "start_time": "2024-08-18T04:04:10.948Z"
   },
   {
    "duration": 19,
    "start_time": "2024-08-18T04:05:08.584Z"
   },
   {
    "duration": 366,
    "start_time": "2024-08-18T04:05:27.068Z"
   },
   {
    "duration": 9,
    "start_time": "2024-08-18T04:05:42.583Z"
   },
   {
    "duration": 16,
    "start_time": "2024-08-18T04:21:01.288Z"
   },
   {
    "duration": 34,
    "start_time": "2024-08-18T04:24:52.450Z"
   },
   {
    "duration": 26,
    "start_time": "2024-08-18T04:25:03.908Z"
   },
   {
    "duration": 8,
    "start_time": "2024-08-18T04:26:11.783Z"
   },
   {
    "duration": 57,
    "start_time": "2024-08-18T04:26:19.704Z"
   },
   {
    "duration": 329,
    "start_time": "2024-08-18T04:37:18.792Z"
   },
   {
    "duration": 25,
    "start_time": "2024-08-18T04:37:49.373Z"
   },
   {
    "duration": 10,
    "start_time": "2024-08-18T04:37:55.624Z"
   },
   {
    "duration": 17,
    "start_time": "2024-08-18T04:38:09.700Z"
   },
   {
    "duration": 1005,
    "start_time": "2024-08-18T04:39:16.734Z"
   },
   {
    "duration": 12,
    "start_time": "2024-08-18T04:40:27.710Z"
   },
   {
    "duration": 98,
    "start_time": "2024-08-18T04:40:46.856Z"
   },
   {
    "duration": 22,
    "start_time": "2024-08-18T04:58:29.614Z"
   },
   {
    "duration": 29,
    "start_time": "2024-08-18T04:58:47.135Z"
   },
   {
    "duration": 23,
    "start_time": "2024-08-18T04:59:08.740Z"
   },
   {
    "duration": 23,
    "start_time": "2024-08-18T04:59:42.629Z"
   },
   {
    "duration": 23,
    "start_time": "2024-08-18T04:59:50.787Z"
   },
   {
    "duration": 6,
    "start_time": "2024-08-18T04:59:57.097Z"
   },
   {
    "duration": 5,
    "start_time": "2024-08-18T05:00:13.224Z"
   },
   {
    "duration": 9624,
    "start_time": "2024-08-18T05:03:10.584Z"
   },
   {
    "duration": 8,
    "start_time": "2024-08-18T05:03:44.744Z"
   },
   {
    "duration": 9784,
    "start_time": "2024-08-18T05:03:48.898Z"
   },
   {
    "duration": 9567,
    "start_time": "2024-08-18T05:04:15.976Z"
   },
   {
    "duration": 262,
    "start_time": "2024-08-18T05:04:37.973Z"
   },
   {
    "duration": 843,
    "start_time": "2024-08-18T05:05:18.974Z"
   },
   {
    "duration": 699,
    "start_time": "2024-08-18T05:05:39.168Z"
   },
   {
    "duration": 756,
    "start_time": "2024-08-18T05:06:40.560Z"
   },
   {
    "duration": 724,
    "start_time": "2024-08-18T05:06:54.573Z"
   },
   {
    "duration": 41,
    "start_time": "2024-08-18T05:09:17.423Z"
   },
   {
    "duration": 1238,
    "start_time": "2024-08-18T05:09:40.263Z"
   },
   {
    "duration": 72,
    "start_time": "2024-08-18T05:09:41.504Z"
   },
   {
    "duration": 41,
    "start_time": "2024-08-18T05:09:41.578Z"
   },
   {
    "duration": 917,
    "start_time": "2024-08-18T05:09:41.635Z"
   },
   {
    "duration": 27,
    "start_time": "2024-08-18T05:09:42.556Z"
   },
   {
    "duration": 81,
    "start_time": "2024-08-18T05:09:42.587Z"
   },
   {
    "duration": 13,
    "start_time": "2024-08-18T05:09:42.670Z"
   },
   {
    "duration": 13,
    "start_time": "2024-08-18T05:09:42.685Z"
   },
   {
    "duration": 48,
    "start_time": "2024-08-18T05:09:42.700Z"
   },
   {
    "duration": 9,
    "start_time": "2024-08-18T05:09:42.751Z"
   },
   {
    "duration": 99,
    "start_time": "2024-08-18T05:09:42.764Z"
   },
   {
    "duration": 124,
    "start_time": "2024-08-18T05:09:42.865Z"
   },
   {
    "duration": 52,
    "start_time": "2024-08-18T05:09:42.992Z"
   },
   {
    "duration": 750,
    "start_time": "2024-08-18T05:09:43.049Z"
   },
   {
    "duration": 317,
    "start_time": "2024-08-18T05:16:01.704Z"
   },
   {
    "duration": 686,
    "start_time": "2024-08-18T05:16:28.297Z"
   },
   {
    "duration": 246,
    "start_time": "2024-08-18T05:16:40.096Z"
   },
   {
    "duration": 300,
    "start_time": "2024-08-18T05:16:53.631Z"
   },
   {
    "duration": 7,
    "start_time": "2024-08-18T05:22:58.934Z"
   },
   {
    "duration": 6,
    "start_time": "2024-08-18T05:23:25.669Z"
   },
   {
    "duration": 10,
    "start_time": "2024-08-18T05:23:39.403Z"
   },
   {
    "duration": 9,
    "start_time": "2024-08-18T05:26:26.971Z"
   },
   {
    "duration": 435,
    "start_time": "2024-08-18T05:30:51.234Z"
   },
   {
    "duration": 14,
    "start_time": "2024-08-18T05:30:57.277Z"
   },
   {
    "duration": 25,
    "start_time": "2024-08-18T05:31:58.481Z"
   },
   {
    "duration": 16,
    "start_time": "2024-08-18T05:32:16.287Z"
   },
   {
    "duration": 665,
    "start_time": "2024-08-18T05:34:04.268Z"
   },
   {
    "duration": 93,
    "start_time": "2024-08-18T05:35:15.384Z"
   },
   {
    "duration": 15,
    "start_time": "2024-08-18T05:37:07.336Z"
   },
   {
    "duration": 99,
    "start_time": "2024-08-18T05:37:10.190Z"
   },
   {
    "duration": 17,
    "start_time": "2024-08-18T05:53:11.957Z"
   },
   {
    "duration": 34,
    "start_time": "2024-08-18T05:54:01.084Z"
   },
   {
    "duration": 17,
    "start_time": "2024-08-18T05:54:21.416Z"
   },
   {
    "duration": 14,
    "start_time": "2024-08-18T05:56:28.022Z"
   },
   {
    "duration": 15,
    "start_time": "2024-08-18T05:57:10.229Z"
   },
   {
    "duration": 525,
    "start_time": "2024-08-18T05:58:08.277Z"
   },
   {
    "duration": 16,
    "start_time": "2024-08-18T06:01:59.517Z"
   },
   {
    "duration": 22,
    "start_time": "2024-08-18T06:02:29.297Z"
   },
   {
    "duration": 667,
    "start_time": "2024-08-18T06:04:28.439Z"
   },
   {
    "duration": 57,
    "start_time": "2024-08-18T06:04:48.580Z"
   },
   {
    "duration": 173,
    "start_time": "2024-08-18T06:05:07.092Z"
   },
   {
    "duration": 55,
    "start_time": "2024-08-18T06:05:14.750Z"
   },
   {
    "duration": 3,
    "start_time": "2024-08-18T06:05:18.346Z"
   },
   {
    "duration": 6,
    "start_time": "2024-08-18T06:06:13.902Z"
   },
   {
    "duration": 5,
    "start_time": "2024-08-18T06:06:16.881Z"
   },
   {
    "duration": 20,
    "start_time": "2024-08-18T06:06:26.719Z"
   },
   {
    "duration": 22,
    "start_time": "2024-08-18T06:06:36.070Z"
   },
   {
    "duration": 23,
    "start_time": "2024-08-18T06:07:04.682Z"
   },
   {
    "duration": 27,
    "start_time": "2024-08-18T06:07:16.675Z"
   },
   {
    "duration": 23,
    "start_time": "2024-08-18T06:07:29.362Z"
   },
   {
    "duration": 5,
    "start_time": "2024-08-18T06:10:26.197Z"
   },
   {
    "duration": 5,
    "start_time": "2024-08-18T06:10:36.274Z"
   },
   {
    "duration": 25,
    "start_time": "2024-08-18T06:10:42.853Z"
   },
   {
    "duration": 5,
    "start_time": "2024-08-18T06:10:54.172Z"
   },
   {
    "duration": 20,
    "start_time": "2024-08-18T06:11:01.800Z"
   },
   {
    "duration": 15,
    "start_time": "2024-08-18T06:11:50.150Z"
   },
   {
    "duration": 16,
    "start_time": "2024-08-18T06:12:38.804Z"
   },
   {
    "duration": 17,
    "start_time": "2024-08-18T06:12:48.650Z"
   },
   {
    "duration": 6,
    "start_time": "2024-08-18T06:14:01.582Z"
   },
   {
    "duration": 14,
    "start_time": "2024-08-18T06:17:43.640Z"
   },
   {
    "duration": 33,
    "start_time": "2024-08-18T06:18:05.283Z"
   },
   {
    "duration": 23,
    "start_time": "2024-08-18T06:18:19.425Z"
   },
   {
    "duration": 34,
    "start_time": "2024-08-18T06:19:09.740Z"
   },
   {
    "duration": 21,
    "start_time": "2024-08-18T06:19:17.009Z"
   },
   {
    "duration": 18,
    "start_time": "2024-08-18T06:22:09.797Z"
   },
   {
    "duration": 38,
    "start_time": "2024-08-18T06:22:46.015Z"
   },
   {
    "duration": 29,
    "start_time": "2024-08-18T06:23:08.582Z"
   },
   {
    "duration": 28,
    "start_time": "2024-08-18T06:25:44.842Z"
   },
   {
    "duration": 4,
    "start_time": "2024-08-18T06:29:11.917Z"
   },
   {
    "duration": 218,
    "start_time": "2024-08-18T06:31:44.634Z"
   },
   {
    "duration": 217,
    "start_time": "2024-08-18T06:31:53.853Z"
   },
   {
    "duration": 23,
    "start_time": "2024-08-18T06:32:07.605Z"
   },
   {
    "duration": 14,
    "start_time": "2024-08-18T06:32:15.391Z"
   },
   {
    "duration": 18,
    "start_time": "2024-08-18T06:32:32.623Z"
   },
   {
    "duration": 65,
    "start_time": "2024-08-18T06:34:48.274Z"
   },
   {
    "duration": 54,
    "start_time": "2024-08-18T06:35:16.288Z"
   },
   {
    "duration": 17,
    "start_time": "2024-08-18T06:36:11.576Z"
   },
   {
    "duration": 26,
    "start_time": "2024-08-18T06:37:38.019Z"
   },
   {
    "duration": 22,
    "start_time": "2024-08-18T06:37:57.464Z"
   },
   {
    "duration": 10,
    "start_time": "2024-08-18T06:41:02.198Z"
   },
   {
    "duration": 23,
    "start_time": "2024-08-18T06:41:16.175Z"
   },
   {
    "duration": 12,
    "start_time": "2024-08-18T06:43:40.126Z"
   },
   {
    "duration": 24,
    "start_time": "2024-08-18T06:43:47.722Z"
   },
   {
    "duration": 26,
    "start_time": "2024-08-18T06:44:25.184Z"
   },
   {
    "duration": 5050,
    "start_time": "2024-08-18T14:45:41.718Z"
   },
   {
    "duration": 105,
    "start_time": "2024-08-18T14:45:46.773Z"
   },
   {
    "duration": 46,
    "start_time": "2024-08-18T14:45:46.881Z"
   },
   {
    "duration": 924,
    "start_time": "2024-08-18T14:45:46.931Z"
   },
   {
    "duration": 46,
    "start_time": "2024-08-18T14:45:47.859Z"
   },
   {
    "duration": 59,
    "start_time": "2024-08-18T14:45:47.908Z"
   },
   {
    "duration": 36,
    "start_time": "2024-08-18T14:45:47.970Z"
   },
   {
    "duration": 13,
    "start_time": "2024-08-18T14:45:48.008Z"
   },
   {
    "duration": 20,
    "start_time": "2024-08-18T14:45:48.025Z"
   },
   {
    "duration": 52,
    "start_time": "2024-08-18T14:45:48.051Z"
   },
   {
    "duration": 95,
    "start_time": "2024-08-18T14:45:48.107Z"
   },
   {
    "duration": 136,
    "start_time": "2024-08-18T14:45:48.207Z"
   },
   {
    "duration": 6,
    "start_time": "2024-08-18T14:45:48.346Z"
   },
   {
    "duration": 49,
    "start_time": "2024-08-18T14:45:48.356Z"
   },
   {
    "duration": 20,
    "start_time": "2024-08-18T14:45:48.409Z"
   },
   {
    "duration": 12,
    "start_time": "2024-08-18T14:45:48.432Z"
   },
   {
    "duration": 354,
    "start_time": "2024-08-18T14:45:48.447Z"
   },
   {
    "duration": 32,
    "start_time": "2024-08-18T14:45:48.805Z"
   },
   {
    "duration": 16,
    "start_time": "2024-08-18T14:45:48.840Z"
   },
   {
    "duration": 132,
    "start_time": "2024-08-18T14:45:48.859Z"
   },
   {
    "duration": 59,
    "start_time": "2024-08-18T14:45:49.003Z"
   },
   {
    "duration": 52,
    "start_time": "2024-08-18T14:45:49.066Z"
   },
   {
    "duration": 14,
    "start_time": "2024-08-18T14:48:18.847Z"
   },
   {
    "duration": 485,
    "start_time": "2024-08-18T14:49:00.982Z"
   },
   {
    "duration": 8,
    "start_time": "2024-08-18T14:49:05.989Z"
   },
   {
    "duration": 5,
    "start_time": "2024-08-18T14:49:14.134Z"
   },
   {
    "duration": 6,
    "start_time": "2024-08-18T14:49:39.421Z"
   },
   {
    "duration": 7,
    "start_time": "2024-08-18T14:49:55.712Z"
   },
   {
    "duration": 24,
    "start_time": "2024-08-18T14:50:07.726Z"
   },
   {
    "duration": 11,
    "start_time": "2024-08-18T14:50:27.586Z"
   },
   {
    "duration": 77,
    "start_time": "2024-08-18T14:53:52.553Z"
   },
   {
    "duration": 104,
    "start_time": "2024-08-18T14:53:58.338Z"
   },
   {
    "duration": 8,
    "start_time": "2024-08-18T14:54:10.682Z"
   },
   {
    "duration": 31,
    "start_time": "2024-08-18T14:54:12.785Z"
   },
   {
    "duration": 21,
    "start_time": "2024-08-18T14:54:17.832Z"
   },
   {
    "duration": 28,
    "start_time": "2024-08-18T14:54:52.512Z"
   },
   {
    "duration": 19,
    "start_time": "2024-08-18T14:55:04.594Z"
   },
   {
    "duration": 28,
    "start_time": "2024-08-18T14:55:27.407Z"
   },
   {
    "duration": 26,
    "start_time": "2024-08-18T14:56:05.231Z"
   },
   {
    "duration": 28,
    "start_time": "2024-08-18T14:56:16.954Z"
   },
   {
    "duration": 17,
    "start_time": "2024-08-18T14:56:20.115Z"
   },
   {
    "duration": 14,
    "start_time": "2024-08-18T14:56:57.907Z"
   },
   {
    "duration": 593,
    "start_time": "2024-08-18T14:57:11.768Z"
   },
   {
    "duration": 13,
    "start_time": "2024-08-18T14:57:32.184Z"
   },
   {
    "duration": 16,
    "start_time": "2024-08-18T14:58:00.492Z"
   },
   {
    "duration": 69,
    "start_time": "2024-08-18T14:58:36.321Z"
   },
   {
    "duration": 12,
    "start_time": "2024-08-18T14:58:50.066Z"
   },
   {
    "duration": 75,
    "start_time": "2024-08-18T14:59:29.748Z"
   },
   {
    "duration": 29,
    "start_time": "2024-08-18T14:59:31.899Z"
   },
   {
    "duration": 30,
    "start_time": "2024-08-18T15:00:20.674Z"
   },
   {
    "duration": 62,
    "start_time": "2024-08-18T15:03:07.740Z"
   },
   {
    "duration": 18,
    "start_time": "2024-08-18T15:04:41.630Z"
   },
   {
    "duration": 37,
    "start_time": "2024-08-18T15:05:00.864Z"
   },
   {
    "duration": 12,
    "start_time": "2024-08-18T15:05:05.808Z"
   },
   {
    "duration": 33,
    "start_time": "2024-08-18T15:06:24.544Z"
   },
   {
    "duration": 14,
    "start_time": "2024-08-18T15:06:34.708Z"
   },
   {
    "duration": 464,
    "start_time": "2024-08-18T15:07:41.955Z"
   },
   {
    "duration": 21,
    "start_time": "2024-08-18T15:08:00.020Z"
   },
   {
    "duration": 8,
    "start_time": "2024-08-18T15:10:36.751Z"
   },
   {
    "duration": 39,
    "start_time": "2024-08-18T15:10:40.818Z"
   },
   {
    "duration": 44,
    "start_time": "2024-08-18T15:11:11.600Z"
   },
   {
    "duration": 25,
    "start_time": "2024-08-18T15:11:19.888Z"
   },
   {
    "duration": 30,
    "start_time": "2024-08-18T15:12:01.964Z"
   },
   {
    "duration": 34,
    "start_time": "2024-08-18T15:12:30.916Z"
   },
   {
    "duration": 56,
    "start_time": "2024-08-18T15:12:40.600Z"
   },
   {
    "duration": 46,
    "start_time": "2024-08-18T15:12:59.221Z"
   },
   {
    "duration": 39,
    "start_time": "2024-08-18T15:13:09.624Z"
   },
   {
    "duration": 416,
    "start_time": "2024-08-18T15:13:27.203Z"
   },
   {
    "duration": 119,
    "start_time": "2024-08-18T15:13:46.756Z"
   },
   {
    "duration": 53,
    "start_time": "2024-08-18T15:15:50.852Z"
   },
   {
    "duration": 56,
    "start_time": "2024-08-18T15:18:54.074Z"
   },
   {
    "duration": 27,
    "start_time": "2024-08-18T15:23:46.530Z"
   },
   {
    "duration": 20,
    "start_time": "2024-08-18T15:24:00.418Z"
   },
   {
    "duration": 5,
    "start_time": "2024-08-18T15:24:24.907Z"
   },
   {
    "duration": 26,
    "start_time": "2024-08-18T15:25:23.260Z"
   },
   {
    "duration": 5,
    "start_time": "2024-08-18T15:25:39.300Z"
   },
   {
    "duration": 27,
    "start_time": "2024-08-18T15:25:58.666Z"
   },
   {
    "duration": 27,
    "start_time": "2024-08-18T15:26:12.495Z"
   },
   {
    "duration": 36,
    "start_time": "2024-08-18T15:26:24.734Z"
   },
   {
    "duration": 548,
    "start_time": "2024-08-18T15:27:12.002Z"
   },
   {
    "duration": 52,
    "start_time": "2024-08-18T15:27:45.180Z"
   },
   {
    "duration": 31,
    "start_time": "2024-08-18T15:27:50.162Z"
   },
   {
    "duration": 116,
    "start_time": "2024-08-18T15:27:55.127Z"
   },
   {
    "duration": 4981,
    "start_time": "2024-08-19T03:53:26.948Z"
   },
   {
    "duration": 105,
    "start_time": "2024-08-19T03:53:31.932Z"
   },
   {
    "duration": 41,
    "start_time": "2024-08-19T03:53:32.039Z"
   },
   {
    "duration": 902,
    "start_time": "2024-08-19T03:53:32.084Z"
   },
   {
    "duration": 43,
    "start_time": "2024-08-19T03:53:32.990Z"
   },
   {
    "duration": 56,
    "start_time": "2024-08-19T03:53:33.036Z"
   },
   {
    "duration": 31,
    "start_time": "2024-08-19T03:53:33.095Z"
   },
   {
    "duration": 12,
    "start_time": "2024-08-19T03:53:33.129Z"
   },
   {
    "duration": 20,
    "start_time": "2024-08-19T03:53:33.143Z"
   },
   {
    "duration": 8,
    "start_time": "2024-08-19T03:53:33.169Z"
   },
   {
    "duration": 136,
    "start_time": "2024-08-19T03:53:33.180Z"
   },
   {
    "duration": 126,
    "start_time": "2024-08-19T03:53:33.327Z"
   },
   {
    "duration": 7,
    "start_time": "2024-08-19T03:53:33.456Z"
   },
   {
    "duration": 27,
    "start_time": "2024-08-19T03:53:33.467Z"
   },
   {
    "duration": 42,
    "start_time": "2024-08-19T03:53:33.498Z"
   },
   {
    "duration": 11,
    "start_time": "2024-08-19T03:53:33.543Z"
   },
   {
    "duration": 334,
    "start_time": "2024-08-19T03:53:33.557Z"
   },
   {
    "duration": 42,
    "start_time": "2024-08-19T03:53:33.893Z"
   },
   {
    "duration": 17,
    "start_time": "2024-08-19T03:53:33.938Z"
   },
   {
    "duration": 134,
    "start_time": "2024-08-19T03:53:33.958Z"
   },
   {
    "duration": 83,
    "start_time": "2024-08-19T03:53:34.095Z"
   },
   {
    "duration": 45,
    "start_time": "2024-08-19T03:53:34.181Z"
   },
   {
    "duration": 49,
    "start_time": "2024-08-19T03:53:34.229Z"
   },
   {
    "duration": 55,
    "start_time": "2024-08-19T03:53:34.281Z"
   },
   {
    "duration": 859,
    "start_time": "2024-08-19T03:53:34.339Z"
   },
   {
    "duration": 3,
    "start_time": "2024-08-19T03:55:22.668Z"
   },
   {
    "duration": 6,
    "start_time": "2024-08-19T03:55:59.743Z"
   },
   {
    "duration": 9,
    "start_time": "2024-08-19T03:57:53.691Z"
   },
   {
    "duration": 28,
    "start_time": "2024-08-19T03:58:34.476Z"
   },
   {
    "duration": 28,
    "start_time": "2024-08-19T04:00:34.186Z"
   },
   {
    "duration": 28,
    "start_time": "2024-08-19T04:01:44.827Z"
   },
   {
    "duration": 868,
    "start_time": "2024-08-19T04:29:09.486Z"
   },
   {
    "duration": 18,
    "start_time": "2024-08-19T04:29:28.405Z"
   },
   {
    "duration": 6,
    "start_time": "2024-08-19T04:29:44.751Z"
   },
   {
    "duration": 9,
    "start_time": "2024-08-19T04:29:54.775Z"
   },
   {
    "duration": 18,
    "start_time": "2024-08-19T04:37:43.088Z"
   },
   {
    "duration": 3,
    "start_time": "2024-08-19T04:46:06.233Z"
   },
   {
    "duration": 17,
    "start_time": "2024-08-19T04:46:44.921Z"
   },
   {
    "duration": 6,
    "start_time": "2024-08-19T04:48:50.056Z"
   },
   {
    "duration": 20,
    "start_time": "2024-08-19T04:48:57.069Z"
   },
   {
    "duration": 5,
    "start_time": "2024-08-19T04:49:08.986Z"
   },
   {
    "duration": 29,
    "start_time": "2024-08-19T04:51:02.846Z"
   },
   {
    "duration": 33,
    "start_time": "2024-08-19T04:51:42.356Z"
   },
   {
    "duration": 32,
    "start_time": "2024-08-19T04:52:10.570Z"
   },
   {
    "duration": 92,
    "start_time": "2024-08-19T05:06:58.391Z"
   },
   {
    "duration": 31,
    "start_time": "2024-08-19T05:07:23.062Z"
   },
   {
    "duration": 11,
    "start_time": "2024-08-19T05:08:12.782Z"
   },
   {
    "duration": 10,
    "start_time": "2024-08-19T05:08:24.447Z"
   },
   {
    "duration": 13,
    "start_time": "2024-08-19T05:15:02.901Z"
   },
   {
    "duration": 10,
    "start_time": "2024-08-19T05:15:51.335Z"
   },
   {
    "duration": 10,
    "start_time": "2024-08-19T05:16:15.088Z"
   },
   {
    "duration": 33,
    "start_time": "2024-08-19T05:20:56.978Z"
   },
   {
    "duration": 6,
    "start_time": "2024-08-19T05:21:52.329Z"
   },
   {
    "duration": 11,
    "start_time": "2024-08-19T05:21:57.209Z"
   },
   {
    "duration": 11,
    "start_time": "2024-08-19T05:22:57.396Z"
   },
   {
    "duration": 10,
    "start_time": "2024-08-19T05:24:14.920Z"
   },
   {
    "duration": 19,
    "start_time": "2024-08-19T05:28:12.894Z"
   },
   {
    "duration": 12,
    "start_time": "2024-08-19T05:28:18.950Z"
   },
   {
    "duration": 11,
    "start_time": "2024-08-19T05:30:15.873Z"
   },
   {
    "duration": 4904,
    "start_time": "2024-08-19T14:24:22.745Z"
   },
   {
    "duration": 101,
    "start_time": "2024-08-19T14:24:27.652Z"
   },
   {
    "duration": 41,
    "start_time": "2024-08-19T14:24:27.755Z"
   },
   {
    "duration": 911,
    "start_time": "2024-08-19T14:24:27.800Z"
   },
   {
    "duration": 35,
    "start_time": "2024-08-19T14:24:28.714Z"
   },
   {
    "duration": 55,
    "start_time": "2024-08-19T14:24:28.752Z"
   },
   {
    "duration": 33,
    "start_time": "2024-08-19T14:24:28.810Z"
   },
   {
    "duration": 12,
    "start_time": "2024-08-19T14:24:28.845Z"
   },
   {
    "duration": 21,
    "start_time": "2024-08-19T14:24:28.860Z"
   },
   {
    "duration": 49,
    "start_time": "2024-08-19T14:24:28.886Z"
   },
   {
    "duration": 101,
    "start_time": "2024-08-19T14:24:28.938Z"
   },
   {
    "duration": 122,
    "start_time": "2024-08-19T14:24:29.041Z"
   },
   {
    "duration": 7,
    "start_time": "2024-08-19T14:24:29.167Z"
   },
   {
    "duration": 26,
    "start_time": "2024-08-19T14:24:29.177Z"
   },
   {
    "duration": 19,
    "start_time": "2024-08-19T14:24:29.233Z"
   },
   {
    "duration": 10,
    "start_time": "2024-08-19T14:24:29.255Z"
   },
   {
    "duration": 339,
    "start_time": "2024-08-19T14:24:29.269Z"
   },
   {
    "duration": 40,
    "start_time": "2024-08-19T14:24:29.612Z"
   },
   {
    "duration": 15,
    "start_time": "2024-08-19T14:24:29.655Z"
   },
   {
    "duration": 124,
    "start_time": "2024-08-19T14:24:29.673Z"
   },
   {
    "duration": 84,
    "start_time": "2024-08-19T14:24:29.801Z"
   },
   {
    "duration": 28,
    "start_time": "2024-08-19T14:24:29.888Z"
   },
   {
    "duration": 50,
    "start_time": "2024-08-19T14:24:29.933Z"
   },
   {
    "duration": 57,
    "start_time": "2024-08-19T14:24:29.986Z"
   },
   {
    "duration": 28,
    "start_time": "2024-08-19T14:24:30.048Z"
   },
   {
    "duration": 30,
    "start_time": "2024-08-19T14:24:30.079Z"
   },
   {
    "duration": 6,
    "start_time": "2024-08-19T14:24:30.133Z"
   },
   {
    "duration": 13,
    "start_time": "2024-08-19T14:24:30.147Z"
   },
   {
    "duration": 10,
    "start_time": "2024-08-19T14:24:30.162Z"
   },
   {
    "duration": 11,
    "start_time": "2024-08-19T14:24:30.175Z"
   },
   {
    "duration": 12,
    "start_time": "2024-08-19T14:24:30.234Z"
   },
   {
    "duration": 10,
    "start_time": "2024-08-19T14:24:30.250Z"
   },
   {
    "duration": 315,
    "start_time": "2024-08-20T04:45:12.916Z"
   },
   {
    "duration": 8,
    "start_time": "2024-08-20T04:59:17.633Z"
   }
  ],
  "kernelspec": {
   "display_name": "Python 3 (ipykernel)",
   "language": "python",
   "name": "python3"
  },
  "language_info": {
   "codemirror_mode": {
    "name": "ipython",
    "version": 3
   },
   "file_extension": ".py",
   "mimetype": "text/x-python",
   "name": "python",
   "nbconvert_exporter": "python",
   "pygments_lexer": "ipython3",
   "version": "3.9.19"
  },
  "toc": {
   "base_numbering": 1,
   "nav_menu": {},
   "number_sections": true,
   "sideBar": true,
   "skip_h1_title": true,
   "title_cell": "Table of Contents",
   "title_sidebar": "Contents",
   "toc_cell": false,
   "toc_position": {},
   "toc_section_display": true,
   "toc_window_display": false
  }
 },
 "nbformat": 4,
 "nbformat_minor": 5
}
